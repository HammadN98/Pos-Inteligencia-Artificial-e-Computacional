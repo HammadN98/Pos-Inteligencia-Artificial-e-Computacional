{
  "nbformat": 4,
  "nbformat_minor": 0,
  "metadata": {
    "colab": {
      "provenance": [],
      "include_colab_link": true
    },
    "kernelspec": {
      "name": "python3",
      "display_name": "Python 3"
    },
    "language_info": {
      "name": "python"
    },
    "accelerator": "GPU"
  },
  "cells": [
    {
      "cell_type": "markdown",
      "metadata": {
        "id": "view-in-github",
        "colab_type": "text"
      },
      "source": [
        "<a href=\"https://colab.research.google.com/github/HammadN98/pos-Inteligencia-Artificial-e-Computacional/blob/main/Aprendizado-Profundo/ELT575_Semana2_ES119826.ipynb\" target=\"_parent\"><img src=\"https://colab.research.google.com/assets/colab-badge.svg\" alt=\"Open In Colab\"/></a>"
      ]
    },
    {
      "cell_type": "code",
      "source": [
        "import numpy as np\n",
        "import tensorflow as tf\n",
        "\n",
        "from matplotlib import pyplot as plt\n",
        "from sklearn.model_selection import KFold\n",
        "from tensorflow.keras.datasets import mnist, cifar10\n",
        "from tensorflow.keras.utils import to_categorical\n",
        "from tensorflow.keras.models import Sequential\n",
        "from tensorflow.keras.layers import Conv2D, MaxPooling2D, Dense, Flatten, Dropout, BatchNormalization\n",
        "from tensorflow.keras.optimizers import Adam"
      ],
      "metadata": {
        "id": "mepYIv5SXA6q"
      },
      "execution_count": null,
      "outputs": []
    },
    {
      "cell_type": "code",
      "source": [
        "ES119826\n",
        "ELT575_Semana2_ES119826"
      ],
      "metadata": {
        "id": "sgCwZbjDmsWm"
      },
      "execution_count": null,
      "outputs": []
    },
    {
      "cell_type": "markdown",
      "source": [
        "# Importando dados"
      ],
      "metadata": {
        "id": "D2WVw2iJ-iPf"
      }
    },
    {
      "cell_type": "markdown",
      "source": [
        "Aqui usaremos o dataset MNIST (https://en.wikipedia.org/wiki/MNIST_database), que consiste em imagens de dígitos de 0 a 9 escritos manualmente. As imagens desse dataset são na escala grayscale (possuindo um único canal), tendo dimensões 28 x 28 x 1\n",
        "\n",
        "* Usaremos a versão disponível no tensorflow, mas nada impede que as imagens sejam carregadas de alguma pasta no próprio computador ou carregadas direto para a memória como um array multidimensional (esse último é desaconselhado devido ao volume de dados que serão manipulados durante o treinamento da rede)"
      ],
      "metadata": {
        "id": "rxJzwLQB-leO"
      }
    },
    {
      "cell_type": "code",
      "source": [
        "#Exemplo\n",
        "# carregando dataset\n",
        "(trainX, trainY), (testX, testY) = mnist.load_data()"
      ],
      "metadata": {
        "id": "0oTJGJS7_oQq",
        "colab": {
          "base_uri": "https://localhost:8080/"
        },
        "outputId": "6016603c-e127-40db-8e6e-c3eeeb59164a"
      },
      "execution_count": null,
      "outputs": [
        {
          "output_type": "stream",
          "name": "stdout",
          "text": [
            "Downloading data from https://storage.googleapis.com/tensorflow/tf-keras-datasets/mnist.npz\n",
            "\u001b[1m11490434/11490434\u001b[0m \u001b[32m━━━━━━━━━━━━━━━━━━━━\u001b[0m\u001b[37m\u001b[0m \u001b[1m0s\u001b[0m 0us/step\n"
          ]
        }
      ]
    },
    {
      "cell_type": "code",
      "source": [
        "(X_train, y_train), (X_test, y_test) = cifar10.load_data()"
      ],
      "metadata": {
        "colab": {
          "base_uri": "https://localhost:8080/"
        },
        "id": "jLKzMXYxCs3K",
        "outputId": "b4a1310d-ef58-4eb3-cbfa-d4d8c9203bcb"
      },
      "execution_count": null,
      "outputs": [
        {
          "output_type": "stream",
          "name": "stdout",
          "text": [
            "Downloading data from https://www.cs.toronto.edu/~kriz/cifar-10-python.tar.gz\n",
            "\u001b[1m170498071/170498071\u001b[0m \u001b[32m━━━━━━━━━━━━━━━━━━━━\u001b[0m\u001b[37m\u001b[0m \u001b[1m3s\u001b[0m 0us/step\n"
          ]
        }
      ]
    },
    {
      "cell_type": "markdown",
      "source": [
        "Faremos algumas adequações para que os dados sejam usados no modelo de CNN. Basicamente, colocamos os valores dos pixels em uma escala de 0 a 1, visto que os valores originais dos pixels das imagens correspondem a uma escala de 0 a 255. Também transformamos nossa variável alvo em uma codificação one-hos"
      ],
      "metadata": {
        "id": "OnIgJaRcX-oH"
      }
    },
    {
      "cell_type": "code",
      "source": [
        "#Exemplo\n",
        "plt.imshow(trainX[0], cmap='gray');"
      ],
      "metadata": {
        "colab": {
          "base_uri": "https://localhost:8080/",
          "height": 430
        },
        "id": "6sdeuEG4zNqp",
        "outputId": "faf18c06-71e3-4dfe-d00e-b22b384c59fd"
      },
      "execution_count": null,
      "outputs": [
        {
          "output_type": "display_data",
          "data": {
            "text/plain": [
              "<Figure size 640x480 with 1 Axes>"
            ],
            "image/png": "[encoded data removed]"
          },
          "metadata": {}
        }
      ]
    },
    {
      "cell_type": "code",
      "source": [
        "plt.imshow(X_train[0]);\n",
        "print(f\"A imagem tem classificao de {y_train[0]} = Sapo\")"
      ],
      "metadata": {
        "colab": {
          "base_uri": "https://localhost:8080/",
          "height": 447
        },
        "id": "a9ehBl9FDqJE",
        "outputId": "717772ea-77e1-496a-c3fb-783929e5ebca"
      },
      "execution_count": null,
      "outputs": [
        {
          "output_type": "stream",
          "name": "stdout",
          "text": [
            "A imagem tem classificao de [6] = Sapo\n"
          ]
        },
        {
          "output_type": "display_data",
          "data": {
            "text/plain": [
              "<Figure size 640x480 with 1 Axes>"
            ],
            "image/png": "[encoded data removed]"
          },
          "metadata": {}
        }
      ]
    },
    {
      "cell_type": "code",
      "execution_count": null,
      "metadata": {
        "id": "fIhMNN9u8063"
      },
      "outputs": [],
      "source": [
        "#Exemplo\n",
        "# fazendo um reshape no dataset para ter um único canal\n",
        "trainX = trainX.reshape((trainX.shape[0], 28, 28, 1))\n",
        "testX = testX.reshape((testX.shape[0], 28, 28, 1))\n",
        "\n",
        "# Convertendo valores dos pixels em float\n",
        "trainX = trainX.astype('float32')\n",
        "testX = testX.astype('float32')\n",
        "\n",
        "# normalização para escala [0-1]\n",
        "trainX = trainX / 255.0\n",
        "testX = testX / 255.0\n",
        "\n",
        "# transformando a variável alvo (target) para uma codificação one hot\n",
        "trainY = to_categorical(trainY)\n",
        "testY = to_categorical(testY)"
      ]
    },
    {
      "cell_type": "markdown",
      "source": [],
      "metadata": {
        "id": "wvRukBEqIHRo"
      }
    },
    {
      "cell_type": "code",
      "source": [
        "# fazendo um reshape no dataset para ter um único canal\n",
        "X_train = X_train.reshape((X_train.shape[0], 32, 32, 3))\n",
        "X_test = X_test.reshape(( X_test.shape[0], 32, 32, 3))\n",
        "\n",
        "# Convertendo valores dos pixels em float e normalizando\n",
        "X_train = X_train.astype('float32') / 255.0\n",
        "X_test = X_test.astype('float32') /  255.0\n",
        "\n",
        "\n",
        "# transformando a variável alvo (target) para uma codificação one hot\n",
        "y_train = to_categorical(y_train)\n",
        "y_test = to_categorical(y_test)"
      ],
      "metadata": {
        "id": "wPUXjT7kIG-T"
      },
      "execution_count": null,
      "outputs": []
    },
    {
      "cell_type": "markdown",
      "source": [
        "# Construindo o modelo"
      ],
      "metadata": {
        "id": "4yIlMtBSYkCQ"
      }
    },
    {
      "cell_type": "markdown",
      "source": [
        "O modelo usado será bem simples:\n",
        "* Uma única camada convolucional com 32 filtros de tamanho 3 x 3 e função de ativação ReLU\n",
        "* Camada MaxPooling para redução de dimensionalidade\n",
        "* Transformação do resultado em um vetor\n",
        "* Camada totalmente conectada com 100 neurônios e função de ativação ReLU\n",
        "* Camada de saída softmax para estimar a probabilidade da entrada da rede pertencer a cada uma das 10 classes (dígitos 0 a 9)\n",
        "\n",
        "\n",
        "Para treinamento do modelo, usaremos o algoritmo de otimização clássico do gradiente descendente estocástico (SDG), com a função objetiva como a entropia cruzada categórica. Nossa principal métrica de desempenho será a acurácia"
      ],
      "metadata": {
        "id": "L6qv-wkKZL3a"
      }
    },
    {
      "cell_type": "code",
      "source": [
        "#Exemplo\n",
        "# definindo modelo\n",
        "def define_model():\n",
        "  model = Sequential()\n",
        "  model.add(Conv2D(32, (3, 3), activation='relu', input_shape=(28, 28, 1)))\n",
        "  model.add(BatchNormalization())\n",
        "  model.add(MaxPooling2D((2, 2)))\n",
        "  model.add(Flatten())\n",
        "  model.add(Dense(100, activation='relu'))\n",
        "  model.add(Dense(10, activation='softmax'))\n",
        "\n",
        "  # compilando modelo\n",
        "  opt = Adam(learning_rate=0.001)\n",
        "  model.compile(optimizer=opt, loss='categorical_crossentropy', metrics=['accuracy'])\n",
        "  return model"
      ],
      "metadata": {
        "id": "suXiZFlbAmmi"
      },
      "execution_count": null,
      "outputs": []
    },
    {
      "cell_type": "code",
      "source": [
        "# definindo modelo\n",
        "def define_model_exercicio():\n",
        "  model = Sequential()\n",
        "  model.add(Conv2D(32, (3, 3), activation='relu', input_shape=(32, 32, 3)))\n",
        "  model.add(BatchNormalization())\n",
        "  model.add(MaxPooling2D((2, 2)))\n",
        "  model.add(Flatten())\n",
        "  model.add(Dense(100, activation='relu'))\n",
        "  model.add(Dense(10, activation='softmax'))\n",
        "\n",
        "  # compilando modelo\n",
        "  opt = Adam(learning_rate=0.001)\n",
        "  model.compile(optimizer=opt, loss='categorical_crossentropy', metrics=['accuracy'])\n",
        "  return model"
      ],
      "metadata": {
        "id": "T-2DyDXqJFbe"
      },
      "execution_count": null,
      "outputs": []
    },
    {
      "cell_type": "markdown",
      "source": [
        "# Treinamento do modelo"
      ],
      "metadata": {
        "id": "S5fX2TpPaj77"
      }
    },
    {
      "cell_type": "markdown",
      "source": [
        "O treinamento será realizado usando o método da validação cruzada k-partições (k-fold) com k=5. Tal validação cruzada faz a divisão dos dados em 5 grupos de tamanho igual, sendo realizadas 5 treinamentos distintos. A cada treinamento, 4 grupos de dados são utilizados para treinar o modelo e o grupo remanescente é usado para teste do desempenho do modelo treinado.\n",
        "\n",
        "\n",
        "\n",
        "* O principal intuito da validação k-fold é acessar a incerteza do desempenho do modelo"
      ],
      "metadata": {
        "id": "GetQJUegap4f"
      }
    },
    {
      "cell_type": "code",
      "source": [
        "callback = tf.keras.callbacks.EarlyStopping(monitor='val_loss', patience=3, restore_best_weights=True)"
      ],
      "metadata": {
        "id": "WVsFpMjYkZ7f"
      },
      "execution_count": null,
      "outputs": []
    },
    {
      "cell_type": "code",
      "source": [
        "scores = []\n",
        "histories = []\n",
        "\n",
        "# definindo a validação k-fold\n",
        "kfold = KFold(5, shuffle=True, random_state=1)\n",
        "\n",
        "# loop para as k-folds (cada fold usa subconjuntos de treino e teste diferentes)\n",
        "for train_ix, test_ix in kfold.split(trainX):\n",
        "\n",
        "  model = define_model()\n",
        "\n",
        "  # recorta dados de acordo com índices da k-fold\n",
        "  train_data, train_target, val_data, val_target = trainX[train_ix], trainY[train_ix], trainX[test_ix], trainY[test_ix]\n",
        "\n",
        "  # treinamento do modelo\n",
        "  history = model.fit(train_data, train_target,\n",
        "                      epochs=10, batch_size=32,\n",
        "                      validation_data=(val_data, val_target),\n",
        "                      verbose=1, callbacks=[callback])\n",
        "\n",
        "  # desempenho do modelo\n",
        "  _, acc = model.evaluate(val_data, val_target, verbose=0)\n",
        "  print('> %.3f' % (acc * 100.0))\n",
        "\n",
        "  # armazena resultados de cada modelo treinado dentro da k-fold\n",
        "  scores.append(acc)\n",
        "  histories.append(history)\n",
        "\n",
        "print('Acurácia: média=%.3f desvio=%.3f' % (np.mean(scores)*100, np.std(scores)*100))\n",
        "plt.boxplot(scores)\n",
        "plt.show()"
      ],
      "metadata": {
        "colab": {
          "base_uri": "https://localhost:8080/",
          "height": 1000
        },
        "id": "vNMJ1WpeUNgp",
        "outputId": "28dfab98-15df-417e-af18-c6f26f91493f"
      },
      "execution_count": null,
      "outputs": [
        {
          "output_type": "stream",
          "name": "stderr",
          "text": [
            "/usr/local/lib/python3.10/dist-packages/keras/src/layers/convolutional/base_conv.py:107: UserWarning: Do not pass an `input_shape`/`input_dim` argument to a layer. When using Sequential models, prefer using an `Input(shape)` object as the first layer in the model instead.\n",
            "  super().__init__(activity_regularizer=activity_regularizer, **kwargs)\n"
          ]
        },
        {
          "output_type": "stream",
          "name": "stdout",
          "text": [
            "Epoch 1/10\n",
            "\u001b[1m1500/1500\u001b[0m \u001b[32m━━━━━━━━━━━━━━━━━━━━\u001b[0m\u001b[37m\u001b[0m \u001b[1m8s\u001b[0m 3ms/step - accuracy: 0.9303 - loss: 0.2284 - val_accuracy: 0.9738 - val_loss: 0.0921\n",
            "Epoch 2/10\n",
            "\u001b[1m1500/1500\u001b[0m \u001b[32m━━━━━━━━━━━━━━━━━━━━\u001b[0m\u001b[37m\u001b[0m \u001b[1m8s\u001b[0m 3ms/step - accuracy: 0.9864 - loss: 0.0429 - val_accuracy: 0.9754 - val_loss: 0.0871\n",
            "Epoch 3/10\n",
            "\u001b[1m1500/1500\u001b[0m \u001b[32m━━━━━━━━━━━━━━━━━━━━\u001b[0m\u001b[37m\u001b[0m \u001b[1m4s\u001b[0m 3ms/step - accuracy: 0.9933 - loss: 0.0213 - val_accuracy: 0.9780 - val_loss: 0.0864\n",
            "Epoch 4/10\n",
            "\u001b[1m1500/1500\u001b[0m \u001b[32m━━━━━━━━━━━━━━━━━━━━\u001b[0m\u001b[37m\u001b[0m \u001b[1m4s\u001b[0m 2ms/step - accuracy: 0.9944 - loss: 0.0164 - val_accuracy: 0.9814 - val_loss: 0.0881\n",
            "Epoch 5/10\n",
            "\u001b[1m1500/1500\u001b[0m \u001b[32m━━━━━━━━━━━━━━━━━━━━\u001b[0m\u001b[37m\u001b[0m \u001b[1m6s\u001b[0m 3ms/step - accuracy: 0.9957 - loss: 0.0130 - val_accuracy: 0.9816 - val_loss: 0.0883\n",
            "Epoch 6/10\n",
            "\u001b[1m1500/1500\u001b[0m \u001b[32m━━━━━━━━━━━━━━━━━━━━\u001b[0m\u001b[37m\u001b[0m \u001b[1m4s\u001b[0m 2ms/step - accuracy: 0.9961 - loss: 0.0119 - val_accuracy: 0.9810 - val_loss: 0.1069\n",
            "> 97.800\n",
            "Epoch 1/10\n",
            "\u001b[1m1500/1500\u001b[0m \u001b[32m━━━━━━━━━━━━━━━━━━━━\u001b[0m\u001b[37m\u001b[0m \u001b[1m7s\u001b[0m 4ms/step - accuracy: 0.9225 - loss: 0.2526 - val_accuracy: 0.9790 - val_loss: 0.0711\n",
            "Epoch 2/10\n",
            "\u001b[1m1500/1500\u001b[0m \u001b[32m━━━━━━━━━━━━━━━━━━━━\u001b[0m\u001b[37m\u001b[0m \u001b[1m4s\u001b[0m 3ms/step - accuracy: 0.9876 - loss: 0.0408 - val_accuracy: 0.9783 - val_loss: 0.0706\n",
            "Epoch 3/10\n",
            "\u001b[1m1500/1500\u001b[0m \u001b[32m━━━━━━━━━━━━━━━━━━━━\u001b[0m\u001b[37m\u001b[0m \u001b[1m5s\u001b[0m 3ms/step - accuracy: 0.9936 - loss: 0.0210 - val_accuracy: 0.9668 - val_loss: 0.1296\n",
            "Epoch 4/10\n",
            "\u001b[1m1500/1500\u001b[0m \u001b[32m━━━━━━━━━━━━━━━━━━━━\u001b[0m\u001b[37m\u001b[0m \u001b[1m5s\u001b[0m 3ms/step - accuracy: 0.9942 - loss: 0.0175 - val_accuracy: 0.9822 - val_loss: 0.0747\n",
            "Epoch 5/10\n",
            "\u001b[1m1500/1500\u001b[0m \u001b[32m━━━━━━━━━━━━━━━━━━━━\u001b[0m\u001b[37m\u001b[0m \u001b[1m4s\u001b[0m 2ms/step - accuracy: 0.9952 - loss: 0.0132 - val_accuracy: 0.9818 - val_loss: 0.0750\n",
            "> 97.825\n",
            "Epoch 1/10\n",
            "\u001b[1m1500/1500\u001b[0m \u001b[32m━━━━━━━━━━━━━━━━━━━━\u001b[0m\u001b[37m\u001b[0m \u001b[1m7s\u001b[0m 4ms/step - accuracy: 0.9247 - loss: 0.2489 - val_accuracy: 0.9784 - val_loss: 0.0697\n",
            "Epoch 2/10\n",
            "\u001b[1m1500/1500\u001b[0m \u001b[32m━━━━━━━━━━━━━━━━━━━━\u001b[0m\u001b[37m\u001b[0m \u001b[1m9s\u001b[0m 3ms/step - accuracy: 0.9859 - loss: 0.0431 - val_accuracy: 0.9772 - val_loss: 0.0745\n",
            "Epoch 3/10\n",
            "\u001b[1m1500/1500\u001b[0m \u001b[32m━━━━━━━━━━━━━━━━━━━━\u001b[0m\u001b[37m\u001b[0m \u001b[1m5s\u001b[0m 3ms/step - accuracy: 0.9926 - loss: 0.0237 - val_accuracy: 0.9847 - val_loss: 0.0621\n",
            "Epoch 4/10\n",
            "\u001b[1m1500/1500\u001b[0m \u001b[32m━━━━━━━━━━━━━━━━━━━━\u001b[0m\u001b[37m\u001b[0m \u001b[1m4s\u001b[0m 3ms/step - accuracy: 0.9943 - loss: 0.0172 - val_accuracy: 0.9812 - val_loss: 0.0736\n",
            "Epoch 5/10\n",
            "\u001b[1m1500/1500\u001b[0m \u001b[32m━━━━━━━━━━━━━━━━━━━━\u001b[0m\u001b[37m\u001b[0m \u001b[1m6s\u001b[0m 3ms/step - accuracy: 0.9961 - loss: 0.0131 - val_accuracy: 0.9819 - val_loss: 0.0794\n",
            "Epoch 6/10\n",
            "\u001b[1m1500/1500\u001b[0m \u001b[32m━━━━━━━━━━━━━━━━━━━━\u001b[0m\u001b[37m\u001b[0m \u001b[1m5s\u001b[0m 4ms/step - accuracy: 0.9968 - loss: 0.0089 - val_accuracy: 0.9804 - val_loss: 0.0897\n",
            "> 98.467\n",
            "Epoch 1/10\n",
            "\u001b[1m1500/1500\u001b[0m \u001b[32m━━━━━━━━━━━━━━━━━━━━\u001b[0m\u001b[37m\u001b[0m \u001b[1m7s\u001b[0m 3ms/step - accuracy: 0.9214 - loss: 0.2656 - val_accuracy: 0.9792 - val_loss: 0.0642\n",
            "Epoch 2/10\n",
            "\u001b[1m1500/1500\u001b[0m \u001b[32m━━━━━━━━━━━━━━━━━━━━\u001b[0m\u001b[37m\u001b[0m \u001b[1m4s\u001b[0m 3ms/step - accuracy: 0.9852 - loss: 0.0487 - val_accuracy: 0.9780 - val_loss: 0.0777\n",
            "Epoch 3/10\n",
            "\u001b[1m1500/1500\u001b[0m \u001b[32m━━━━━━━━━━━━━━━━━━━━\u001b[0m\u001b[37m\u001b[0m \u001b[1m5s\u001b[0m 3ms/step - accuracy: 0.9903 - loss: 0.0289 - val_accuracy: 0.9854 - val_loss: 0.0577\n",
            "Epoch 4/10\n",
            "\u001b[1m1500/1500\u001b[0m \u001b[32m━━━━━━━━━━━━━━━━━━━━\u001b[0m\u001b[37m\u001b[0m \u001b[1m4s\u001b[0m 3ms/step - accuracy: 0.9932 - loss: 0.0180 - val_accuracy: 0.9840 - val_loss: 0.0616\n",
            "Epoch 5/10\n",
            "\u001b[1m1500/1500\u001b[0m \u001b[32m━━━━━━━━━━━━━━━━━━━━\u001b[0m\u001b[37m\u001b[0m \u001b[1m5s\u001b[0m 3ms/step - accuracy: 0.9961 - loss: 0.0118 - val_accuracy: 0.9844 - val_loss: 0.0694\n",
            "Epoch 6/10\n",
            "\u001b[1m1500/1500\u001b[0m \u001b[32m━━━━━━━━━━━━━━━━━━━━\u001b[0m\u001b[37m\u001b[0m \u001b[1m5s\u001b[0m 3ms/step - accuracy: 0.9960 - loss: 0.0116 - val_accuracy: 0.9800 - val_loss: 0.0849\n",
            "> 98.542\n",
            "Epoch 1/10\n",
            "\u001b[1m1500/1500\u001b[0m \u001b[32m━━━━━━━━━━━━━━━━━━━━\u001b[0m\u001b[37m\u001b[0m \u001b[1m7s\u001b[0m 3ms/step - accuracy: 0.9221 - loss: 0.2524 - val_accuracy: 0.9768 - val_loss: 0.0809\n",
            "Epoch 2/10\n",
            "\u001b[1m1500/1500\u001b[0m \u001b[32m━━━━━━━━━━━━━━━━━━━━\u001b[0m\u001b[37m\u001b[0m \u001b[1m4s\u001b[0m 3ms/step - accuracy: 0.9863 - loss: 0.0429 - val_accuracy: 0.9693 - val_loss: 0.1100\n",
            "Epoch 3/10\n",
            "\u001b[1m1500/1500\u001b[0m \u001b[32m━━━━━━━━━━━━━━━━━━━━\u001b[0m\u001b[37m\u001b[0m \u001b[1m6s\u001b[0m 3ms/step - accuracy: 0.9913 - loss: 0.0263 - val_accuracy: 0.9776 - val_loss: 0.0871\n",
            "> 97.683\n",
            "Acurácia: média=98.063 desvio=0.364\n"
          ]
        },
        {
          "output_type": "display_data",
          "data": {
            "text/plain": [
              "<Figure size 640x480 with 1 Axes>"
            ],
            "image/png": "[encoded data removed]"
          },
          "metadata": {}
        }
      ]
    },
    {
      "cell_type": "code",
      "source": [
        "def train()"
      ],
      "metadata": {
        "id": "uIkFoM8XJimd"
      },
      "execution_count": null,
      "outputs": []
    },
    {
      "cell_type": "markdown",
      "source": [
        "# Testando modelo no conjunto de teste"
      ],
      "metadata": {
        "id": "vQrS59lcrDGb"
      }
    },
    {
      "cell_type": "markdown",
      "source": [
        "Agora avaliaremos o desempenho do modelo em dados do conjunto de teste separado nas etapas iniciais deste exercício\n",
        "* Abaixo temos a primeira imagem do conjunto de teste"
      ],
      "metadata": {
        "id": "g04X5n32rHye"
      }
    },
    {
      "cell_type": "code",
      "source": [
        "plt.imshow(testX[100,:,:,0], cmap='gray');"
      ],
      "metadata": {
        "colab": {
          "base_uri": "https://localhost:8080/",
          "height": 430
        },
        "id": "-kQjP09ZfjEF",
        "outputId": "ed33f28a-1521-4828-ee9f-c63d00d7f4c5"
      },
      "execution_count": null,
      "outputs": [
        {
          "output_type": "display_data",
          "data": {
            "text/plain": [
              "<Figure size 640x480 with 1 Axes>"
            ],
            "image/png": "[encoded data removed]"
          },
          "metadata": {}
        }
      ]
    },
    {
      "cell_type": "markdown",
      "source": [
        "Usaremos o último modelo treinado na validação cruzada k-fold para classificar qual número temos na imagem (podemos também salvar cada um dos modelos intermediários e usar o que apresentar maior performance ou fazer um comitê de votação com os 5 modelos disponíveis)\n",
        "\n",
        "* temos que fazer uma expansão de dimensão para que nossa imagem tenha um formato 1 x 28 x 28 x 1. Isso é necessário pois treinamos nosso modelo usando mini conjuntos de imagens (como nosso batch size era de 32, o formato passado para o modelo a cada passo de treinamento era 32 x 28 x 28 x 1)"
      ],
      "metadata": {
        "id": "d6YTsHbArbLs"
      }
    },
    {
      "cell_type": "code",
      "source": [
        "np.argmax(model.predict(np.expand_dims(testX[100], axis=0)))"
      ],
      "metadata": {
        "colab": {
          "base_uri": "https://localhost:8080/"
        },
        "id": "Q_MpGPWwfnGE",
        "outputId": "f9a343fe-6e38-44e9-d9e4-0b790d14553c"
      },
      "execution_count": null,
      "outputs": [
        {
          "output_type": "stream",
          "name": "stdout",
          "text": [
            "\u001b[1m1/1\u001b[0m \u001b[32m━━━━━━━━━━━━━━━━━━━━\u001b[0m\u001b[37m\u001b[0m \u001b[1m0s\u001b[0m 329ms/step\n"
          ]
        },
        {
          "output_type": "execute_result",
          "data": {
            "text/plain": [
              "6"
            ]
          },
          "metadata": {},
          "execution_count": 11
        }
      ]
    }
  ]
}