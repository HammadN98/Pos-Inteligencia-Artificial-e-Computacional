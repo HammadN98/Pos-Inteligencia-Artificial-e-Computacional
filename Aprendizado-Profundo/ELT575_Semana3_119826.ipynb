{
  "nbformat": 4,
  "nbformat_minor": 0,
  "metadata": {
    "colab": {
      "provenance": [],
      "include_colab_link": true
    },
    "kernelspec": {
      "name": "python3",
      "display_name": "Python 3"
    },
    "language_info": {
      "name": "python"
    },
    "accelerator": "GPU"
  },
  "cells": [
    {
      "cell_type": "markdown",
      "metadata": {
        "id": "view-in-github",
        "colab_type": "text"
      },
      "source": [
        "<a href=\"https://colab.research.google.com/github/HammadN98/Pos-Inteligencia-Artificial-e-Computacional/blob/main/Aprendizado-Profundo/ELT575_Semana3_119826.ipynb\" target=\"_parent\"><img src=\"https://colab.research.google.com/assets/colab-badge.svg\" alt=\"Open In Colab\"/></a>"
      ]
    },
    {
      "cell_type": "markdown",
      "source": [
        "# Previsoes Temporais LSTM - Tesla\n",
        "\n",
        "Aprendizado-Profundo/"
      ],
      "metadata": {
        "id": "tYTnFBwD9ttA"
      }
    },
    {
      "cell_type": "code",
      "execution_count": 1,
      "metadata": {
        "id": "UR1dg85VTet-"
      },
      "outputs": [],
      "source": [
        "from pandas import read_csv\n",
        "import numpy as np\n",
        "from tensorflow.keras.models import Sequential\n",
        "from tensorflow.keras.layers import Dense, SimpleRNN, LSTM, Dropout\n",
        "from sklearn.preprocessing import MinMaxScaler\n",
        "from sklearn.metrics import mean_squared_error\n",
        "import math\n",
        "import matplotlib.pyplot as plt"
      ]
    },
    {
      "cell_type": "markdown",
      "source": [
        "# Importando dados"
      ],
      "metadata": {
        "id": "Wn2OF0PjVzA4"
      }
    },
    {
      "cell_type": "markdown",
      "source": [
        "Nesse problema de predição, usaremos um dataset público do github. Assim, usamos a função read_csv do pandas passando uma URL como caminho dos dados.\n",
        "* Usaremos os últimos 20% dos pontos temporais como dados de teste\n",
        "\n",
        "* Uma transformação Min-Max é usada apenas para colocar os dados numa escala [0,1]"
      ],
      "metadata": {
        "id": "VZwPz8dFV4bh"
      }
    },
    {
      "cell_type": "code",
      "source": [
        "tesla_url = 'https://raw.githubusercontent.com/HammadN98/Pos-Inteligencia-Artificial-e-Computacional/refs/heads/main/Aprendizado-Profundo/dados/tesla_stock_2015_2022.csv'\n",
        "tesla = read_csv(tesla_url)\n",
        "tesla.head()"
      ],
      "metadata": {
        "colab": {
          "base_uri": "https://localhost:8080/",
          "height": 206
        },
        "id": "NJkvZ9jRVPUB",
        "outputId": "4c074ae1-720c-434c-fa62-015706299958"
      },
      "execution_count": 2,
      "outputs": [
        {
          "output_type": "execute_result",
          "data": {
            "text/plain": [
              "         Date       Open       High        Low      Close  Adj Close    Volume\n",
              "0  2015-07-09  51.816002  52.590000  51.358002  51.584000  51.584000  16670500\n",
              "1  2015-07-10  52.444000  52.599998  51.563999  51.830002  51.830002  13054500\n",
              "2  2015-07-13  52.450001  52.509998  51.209999  52.431999  52.431999  14801500\n",
              "3  2015-07-14  52.419998  53.198002  52.102001  53.130001  53.130001   9538000\n",
              "4  2015-07-15  53.348000  53.498001  52.416000  52.627998  52.627998  10108000"
            ],
            "text/html": [
              "\n",
              "  <div id=\"df-11e7a747-02b9-406b-9d45-3166621c257f\" class=\"colab-df-container\">\n",
              "    <div>\n",
              "<style scoped>\n",
              "    .dataframe tbody tr th:only-of-type {\n",
              "        vertical-align: middle;\n",
              "    }\n",
              "\n",
              "    .dataframe tbody tr th {\n",
              "        vertical-align: top;\n",
              "    }\n",
              "\n",
              "    .dataframe thead th {\n",
              "        text-align: right;\n",
              "    }\n",
              "</style>\n",
              "<table border=\"1\" class=\"dataframe\">\n",
              "  <thead>\n",
              "    <tr style=\"text-align: right;\">\n",
              "      <th></th>\n",
              "      <th>Date</th>\n",
              "      <th>Open</th>\n",
              "      <th>High</th>\n",
              "      <th>Low</th>\n",
              "      <th>Close</th>\n",
              "      <th>Adj Close</th>\n",
              "      <th>Volume</th>\n",
              "    </tr>\n",
              "  </thead>\n",
              "  <tbody>\n",
              "    <tr>\n",
              "      <th>0</th>\n",
              "      <td>2015-07-09</td>\n",
              "      <td>51.816002</td>\n",
              "      <td>52.590000</td>\n",
              "      <td>51.358002</td>\n",
              "      <td>51.584000</td>\n",
              "      <td>51.584000</td>\n",
              "      <td>16670500</td>\n",
              "    </tr>\n",
              "    <tr>\n",
              "      <th>1</th>\n",
              "      <td>2015-07-10</td>\n",
              "      <td>52.444000</td>\n",
              "      <td>52.599998</td>\n",
              "      <td>51.563999</td>\n",
              "      <td>51.830002</td>\n",
              "      <td>51.830002</td>\n",
              "      <td>13054500</td>\n",
              "    </tr>\n",
              "    <tr>\n",
              "      <th>2</th>\n",
              "      <td>2015-07-13</td>\n",
              "      <td>52.450001</td>\n",
              "      <td>52.509998</td>\n",
              "      <td>51.209999</td>\n",
              "      <td>52.431999</td>\n",
              "      <td>52.431999</td>\n",
              "      <td>14801500</td>\n",
              "    </tr>\n",
              "    <tr>\n",
              "      <th>3</th>\n",
              "      <td>2015-07-14</td>\n",
              "      <td>52.419998</td>\n",
              "      <td>53.198002</td>\n",
              "      <td>52.102001</td>\n",
              "      <td>53.130001</td>\n",
              "      <td>53.130001</td>\n",
              "      <td>9538000</td>\n",
              "    </tr>\n",
              "    <tr>\n",
              "      <th>4</th>\n",
              "      <td>2015-07-15</td>\n",
              "      <td>53.348000</td>\n",
              "      <td>53.498001</td>\n",
              "      <td>52.416000</td>\n",
              "      <td>52.627998</td>\n",
              "      <td>52.627998</td>\n",
              "      <td>10108000</td>\n",
              "    </tr>\n",
              "  </tbody>\n",
              "</table>\n",
              "</div>\n",
              "    <div class=\"colab-df-buttons\">\n",
              "\n",
              "  <div class=\"colab-df-container\">\n",
              "    <button class=\"colab-df-convert\" onclick=\"convertToInteractive('df-11e7a747-02b9-406b-9d45-3166621c257f')\"\n",
              "            title=\"Convert this dataframe to an interactive table.\"\n",
              "            style=\"display:none;\">\n",
              "\n",
              "  <svg xmlns=\"http://www.w3.org/2000/svg\" height=\"24px\" viewBox=\"0 -960 960 960\">\n",
              "    <path d=\"M120-120v-720h720v720H120Zm60-500h600v-160H180v160Zm220 220h160v-160H400v160Zm0 220h160v-160H400v160ZM180-400h160v-160H180v160Zm440 0h160v-160H620v160ZM180-180h160v-160H180v160Zm440 0h160v-160H620v160Z\"/>\n",
              "  </svg>\n",
              "    </button>\n",
              "\n",
              "  <style>\n",
              "    .colab-df-container {\n",
              "      display:flex;\n",
              "      gap: 12px;\n",
              "    }\n",
              "\n",
              "    .colab-df-convert {\n",
              "      background-color: #E8F0FE;\n",
              "      border: none;\n",
              "      border-radius: 50%;\n",
              "      cursor: pointer;\n",
              "      display: none;\n",
              "      fill: #1967D2;\n",
              "      height: 32px;\n",
              "      padding: 0 0 0 0;\n",
              "      width: 32px;\n",
              "    }\n",
              "\n",
              "    .colab-df-convert:hover {\n",
              "      background-color: #E2EBFA;\n",
              "      box-shadow: 0px 1px 2px rgba(60, 64, 67, 0.3), 0px 1px 3px 1px rgba(60, 64, 67, 0.15);\n",
              "      fill: #174EA6;\n",
              "    }\n",
              "\n",
              "    .colab-df-buttons div {\n",
              "      margin-bottom: 4px;\n",
              "    }\n",
              "\n",
              "    [theme=dark] .colab-df-convert {\n",
              "      background-color: #3B4455;\n",
              "      fill: #D2E3FC;\n",
              "    }\n",
              "\n",
              "    [theme=dark] .colab-df-convert:hover {\n",
              "      background-color: #434B5C;\n",
              "      box-shadow: 0px 1px 3px 1px rgba(0, 0, 0, 0.15);\n",
              "      filter: drop-shadow(0px 1px 2px rgba(0, 0, 0, 0.3));\n",
              "      fill: #FFFFFF;\n",
              "    }\n",
              "  </style>\n",
              "\n",
              "    <script>\n",
              "      const buttonEl =\n",
              "        document.querySelector('#df-11e7a747-02b9-406b-9d45-3166621c257f button.colab-df-convert');\n",
              "      buttonEl.style.display =\n",
              "        google.colab.kernel.accessAllowed ? 'block' : 'none';\n",
              "\n",
              "      async function convertToInteractive(key) {\n",
              "        const element = document.querySelector('#df-11e7a747-02b9-406b-9d45-3166621c257f');\n",
              "        const dataTable =\n",
              "          await google.colab.kernel.invokeFunction('convertToInteractive',\n",
              "                                                    [key], {});\n",
              "        if (!dataTable) return;\n",
              "\n",
              "        const docLinkHtml = 'Like what you see? Visit the ' +\n",
              "          '<a target=\"_blank\" href=https://colab.research.google.com/notebooks/data_table.ipynb>data table notebook</a>'\n",
              "          + ' to learn more about interactive tables.';\n",
              "        element.innerHTML = '';\n",
              "        dataTable['output_type'] = 'display_data';\n",
              "        await google.colab.output.renderOutput(dataTable, element);\n",
              "        const docLink = document.createElement('div');\n",
              "        docLink.innerHTML = docLinkHtml;\n",
              "        element.appendChild(docLink);\n",
              "      }\n",
              "    </script>\n",
              "  </div>\n",
              "\n",
              "\n",
              "<div id=\"df-5d47497d-67ce-497d-bd0f-7de52b5045e1\">\n",
              "  <button class=\"colab-df-quickchart\" onclick=\"quickchart('df-5d47497d-67ce-497d-bd0f-7de52b5045e1')\"\n",
              "            title=\"Suggest charts\"\n",
              "            style=\"display:none;\">\n",
              "\n",
              "<svg xmlns=\"http://www.w3.org/2000/svg\" height=\"24px\"viewBox=\"0 0 24 24\"\n",
              "     width=\"24px\">\n",
              "    <g>\n",
              "        <path d=\"M19 3H5c-1.1 0-2 .9-2 2v14c0 1.1.9 2 2 2h14c1.1 0 2-.9 2-2V5c0-1.1-.9-2-2-2zM9 17H7v-7h2v7zm4 0h-2V7h2v10zm4 0h-2v-4h2v4z\"/>\n",
              "    </g>\n",
              "</svg>\n",
              "  </button>\n",
              "\n",
              "<style>\n",
              "  .colab-df-quickchart {\n",
              "      --bg-color: #E8F0FE;\n",
              "      --fill-color: #1967D2;\n",
              "      --hover-bg-color: #E2EBFA;\n",
              "      --hover-fill-color: #174EA6;\n",
              "      --disabled-fill-color: #AAA;\n",
              "      --disabled-bg-color: #DDD;\n",
              "  }\n",
              "\n",
              "  [theme=dark] .colab-df-quickchart {\n",
              "      --bg-color: #3B4455;\n",
              "      --fill-color: #D2E3FC;\n",
              "      --hover-bg-color: #434B5C;\n",
              "      --hover-fill-color: #FFFFFF;\n",
              "      --disabled-bg-color: #3B4455;\n",
              "      --disabled-fill-color: #666;\n",
              "  }\n",
              "\n",
              "  .colab-df-quickchart {\n",
              "    background-color: var(--bg-color);\n",
              "    border: none;\n",
              "    border-radius: 50%;\n",
              "    cursor: pointer;\n",
              "    display: none;\n",
              "    fill: var(--fill-color);\n",
              "    height: 32px;\n",
              "    padding: 0;\n",
              "    width: 32px;\n",
              "  }\n",
              "\n",
              "  .colab-df-quickchart:hover {\n",
              "    background-color: var(--hover-bg-color);\n",
              "    box-shadow: 0 1px 2px rgba(60, 64, 67, 0.3), 0 1px 3px 1px rgba(60, 64, 67, 0.15);\n",
              "    fill: var(--button-hover-fill-color);\n",
              "  }\n",
              "\n",
              "  .colab-df-quickchart-complete:disabled,\n",
              "  .colab-df-quickchart-complete:disabled:hover {\n",
              "    background-color: var(--disabled-bg-color);\n",
              "    fill: var(--disabled-fill-color);\n",
              "    box-shadow: none;\n",
              "  }\n",
              "\n",
              "  .colab-df-spinner {\n",
              "    border: 2px solid var(--fill-color);\n",
              "    border-color: transparent;\n",
              "    border-bottom-color: var(--fill-color);\n",
              "    animation:\n",
              "      spin 1s steps(1) infinite;\n",
              "  }\n",
              "\n",
              "  @keyframes spin {\n",
              "    0% {\n",
              "      border-color: transparent;\n",
              "      border-bottom-color: var(--fill-color);\n",
              "      border-left-color: var(--fill-color);\n",
              "    }\n",
              "    20% {\n",
              "      border-color: transparent;\n",
              "      border-left-color: var(--fill-color);\n",
              "      border-top-color: var(--fill-color);\n",
              "    }\n",
              "    30% {\n",
              "      border-color: transparent;\n",
              "      border-left-color: var(--fill-color);\n",
              "      border-top-color: var(--fill-color);\n",
              "      border-right-color: var(--fill-color);\n",
              "    }\n",
              "    40% {\n",
              "      border-color: transparent;\n",
              "      border-right-color: var(--fill-color);\n",
              "      border-top-color: var(--fill-color);\n",
              "    }\n",
              "    60% {\n",
              "      border-color: transparent;\n",
              "      border-right-color: var(--fill-color);\n",
              "    }\n",
              "    80% {\n",
              "      border-color: transparent;\n",
              "      border-right-color: var(--fill-color);\n",
              "      border-bottom-color: var(--fill-color);\n",
              "    }\n",
              "    90% {\n",
              "      border-color: transparent;\n",
              "      border-bottom-color: var(--fill-color);\n",
              "    }\n",
              "  }\n",
              "</style>\n",
              "\n",
              "  <script>\n",
              "    async function quickchart(key) {\n",
              "      const quickchartButtonEl =\n",
              "        document.querySelector('#' + key + ' button');\n",
              "      quickchartButtonEl.disabled = true;  // To prevent multiple clicks.\n",
              "      quickchartButtonEl.classList.add('colab-df-spinner');\n",
              "      try {\n",
              "        const charts = await google.colab.kernel.invokeFunction(\n",
              "            'suggestCharts', [key], {});\n",
              "      } catch (error) {\n",
              "        console.error('Error during call to suggestCharts:', error);\n",
              "      }\n",
              "      quickchartButtonEl.classList.remove('colab-df-spinner');\n",
              "      quickchartButtonEl.classList.add('colab-df-quickchart-complete');\n",
              "    }\n",
              "    (() => {\n",
              "      let quickchartButtonEl =\n",
              "        document.querySelector('#df-5d47497d-67ce-497d-bd0f-7de52b5045e1 button');\n",
              "      quickchartButtonEl.style.display =\n",
              "        google.colab.kernel.accessAllowed ? 'block' : 'none';\n",
              "    })();\n",
              "  </script>\n",
              "</div>\n",
              "\n",
              "    </div>\n",
              "  </div>\n"
            ],
            "application/vnd.google.colaboratory.intrinsic+json": {
              "type": "dataframe",
              "variable_name": "tesla",
              "summary": "{\n  \"name\": \"tesla\",\n  \"rows\": 1644,\n  \"fields\": [\n    {\n      \"column\": \"Date\",\n      \"properties\": {\n        \"dtype\": \"object\",\n        \"num_unique_values\": 1644,\n        \"samples\": [\n          \"2018-03-20\",\n          \"2019-11-20\",\n          \"2021-07-16\"\n        ],\n        \"semantic_type\": \"\",\n        \"description\": \"\"\n      }\n    },\n    {\n      \"column\": \"Open\",\n      \"properties\": {\n        \"dtype\": \"number\",\n        \"std\": 283.51764432939416,\n        \"min\": 28.464001,\n        \"max\": 1234.410034,\n        \"num_unique_values\": 1571,\n        \"samples\": [\n          295.432007,\n          67.206001,\n          44.647999\n        ],\n        \"semantic_type\": \"\",\n        \"description\": \"\"\n      }\n    },\n    {\n      \"column\": \"High\",\n      \"properties\": {\n        \"dtype\": \"number\",\n        \"std\": 289.75678206499384,\n        \"min\": 30.993999,\n        \"max\": 1243.48999,\n        \"num_unique_values\": 1565,\n        \"samples\": [\n          70.496002,\n          45.900002,\n          626.169983\n        ],\n        \"semantic_type\": \"\",\n        \"description\": \"\"\n      }\n    },\n    {\n      \"column\": \"Low\",\n      \"properties\": {\n        \"dtype\": \"number\",\n        \"std\": 276.60500390611463,\n        \"min\": 28.209999,\n        \"max\": 1217.0,\n        \"num_unique_values\": 1580,\n        \"samples\": [\n          341.51001,\n          65.110001,\n          181.832001\n        ],\n        \"semantic_type\": \"\",\n        \"description\": \"\"\n      }\n    },\n    {\n      \"column\": \"Close\",\n      \"properties\": {\n        \"dtype\": \"number\",\n        \"std\": 283.6493432582891,\n        \"min\": 28.733999,\n        \"max\": 1229.910034,\n        \"num_unique_values\": 1610,\n        \"samples\": [\n          48.436001,\n          47.438,\n          60.068001\n        ],\n        \"semantic_type\": \"\",\n        \"description\": \"\"\n      }\n    },\n    {\n      \"column\": \"Adj Close\",\n      \"properties\": {\n        \"dtype\": \"number\",\n        \"std\": 283.6493432582891,\n        \"min\": 28.733999,\n        \"max\": 1229.910034,\n        \"num_unique_values\": 1610,\n        \"samples\": [\n          48.436001,\n          47.438,\n          60.068001\n        ],\n        \"semantic_type\": \"\",\n        \"description\": \"\"\n      }\n    },\n    {\n      \"column\": \"Volume\",\n      \"properties\": {\n        \"dtype\": \"number\",\n        \"std\": 28668612,\n        \"min\": 3540000,\n        \"max\": 304694000,\n        \"num_unique_values\": 1636,\n        \"samples\": [\n          23821500,\n          59105800,\n          52925000\n        ],\n        \"semantic_type\": \"\",\n        \"description\": \"\"\n      }\n    }\n  ]\n}"
            }
          },
          "metadata": {},
          "execution_count": 2
        }
      ]
    },
    {
      "cell_type": "code",
      "source": [
        "def get_train_test(url, split_percent=0.8):\n",
        "    df = read_csv(url, usecols=[4], engine='python') # 4 = Close\n",
        "    data = np.array(df.values.astype('float32'))\n",
        "    scaler = MinMaxScaler(feature_range=(0, 1))\n",
        "    data = scaler.fit_transform(data).flatten()\n",
        "    n = len(data)\n",
        "    # Point for splitting data into train and test\n",
        "    split = int(n*split_percent)\n",
        "    train_data = data[range(split)]\n",
        "    test_data = data[split:]\n",
        "    return train_data, test_data, data\n",
        "\n",
        "#sunspots_url = 'https://raw.githubusercontent.com/jbrownlee/Datasets/master/monthly-sunspots.csv'\n",
        "tesla_url = 'https://raw.githubusercontent.com/HammadN98/Pos-Inteligencia-Artificial-e-Computacional/refs/heads/main/Aprendizado-Profundo/dados/tesla_stock_2015_2022.csv'\n",
        "train_data, test_data, data = get_train_test(tesla_url)"
      ],
      "metadata": {
        "id": "lX0uwvldTkzl"
      },
      "execution_count": 3,
      "outputs": []
    },
    {
      "cell_type": "markdown",
      "source": [
        "# Preparação dos dados"
      ],
      "metadata": {
        "id": "uq007dzyWjfu"
      }
    },
    {
      "cell_type": "markdown",
      "source": [
        "Para preparar os dados para a rede recorrente, devemos quebrar a série temporal em vetores de tamanho igual ao número de entradas da nossa rede (estamos considerando assim quantos time steps passados estamos usando para prever o time step atual)"
      ],
      "metadata": {
        "id": "Ab12ekDHWmv3"
      }
    },
    {
      "cell_type": "code",
      "source": [
        "len(train_data)"
      ],
      "metadata": {
        "colab": {
          "base_uri": "https://localhost:8080/"
        },
        "id": "Wb9y4oTNkUx0",
        "outputId": "6fca5a99-e8d5-4dee-d890-aaa35918838c"
      },
      "execution_count": 4,
      "outputs": [
        {
          "output_type": "execute_result",
          "data": {
            "text/plain": [
              "1315"
            ]
          },
          "metadata": {},
          "execution_count": 4
        }
      ]
    },
    {
      "cell_type": "code",
      "source": [
        "# Prepare the input X and target Y\n",
        "def get_XY(dat, time_steps):\n",
        "    # Indices of target array\n",
        "    Y_ind = np.arange(time_steps, len(dat), time_steps)\n",
        "    Y = dat[Y_ind]\n",
        "    # Prepare X\n",
        "    rows_x = len(Y)\n",
        "    X = dat[range(time_steps*rows_x)]\n",
        "    X = np.reshape(X, (rows_x, time_steps, 1))\n",
        "    return X, Y\n",
        "\n",
        "time_steps = 7 # 2 semana\n",
        "trainX, trainY = get_XY(train_data, time_steps)\n",
        "testX, testY = get_XY(test_data, time_steps)"
      ],
      "metadata": {
        "id": "QaxMoJ5WUGMQ"
      },
      "execution_count": 5,
      "outputs": []
    },
    {
      "cell_type": "markdown",
      "source": [
        "# Construindo o modelo"
      ],
      "metadata": {
        "id": "pL2d-nZVXQVX"
      }
    },
    {
      "cell_type": "markdown",
      "source": [
        "## 1. Inicie com uma única camada LSTM, como no exemplo original, mas com 50 unidades ocultas. Reporte o resultado como feito no exemplo (Raíz do Erro Médio Quadrático e plot de valores das ações vs. valores previstos)\n"
      ],
      "metadata": {
        "id": "HXRosGvjzsXe"
      }
    },
    {
      "cell_type": "markdown",
      "source": [
        "* Função de ativação tanh em ambas as camadas da rede.\n",
        "\n",
        "* Como função objetiva, usaremos o erro médio quadrático, já que estamos lidando com um problema de predição"
      ],
      "metadata": {
        "id": "z0uDihf5XZoX"
      }
    },
    {
      "cell_type": "code",
      "source": [
        "def create_RNN(hidden_units, dense_units, input_shape, activation):\n",
        "    model = Sequential()\n",
        "    model.add(LSTM(hidden_units, input_shape=input_shape,\n",
        "                   activation=activation[0]))\n",
        "    model.add(Dense(units=dense_units, activation=activation[1]))\n",
        "    model.compile(loss='mean_squared_error', optimizer='adam')\n",
        "    return model\n",
        "\n",
        "model = create_RNN(hidden_units=50, dense_units=1, input_shape=(time_steps,1),\n",
        "                   activation=['tanh', 'tanh'])\n",
        "model.fit(trainX, trainY, validation_data=(testX, testY), epochs=30, batch_size=1, verbose=2)"
      ],
      "metadata": {
        "colab": {
          "base_uri": "https://localhost:8080/"
        },
        "id": "Nik1CX1IUeIe",
        "outputId": "686b4844-9cce-4281-f5d4-96896ffb70a0"
      },
      "execution_count": 6,
      "outputs": [
        {
          "output_type": "stream",
          "name": "stderr",
          "text": [
            "/usr/local/lib/python3.11/dist-packages/keras/src/layers/rnn/rnn.py:200: UserWarning: Do not pass an `input_shape`/`input_dim` argument to a layer. When using Sequential models, prefer using an `Input(shape)` object as the first layer in the model instead.\n",
            "  super().__init__(**kwargs)\n"
          ]
        },
        {
          "output_type": "stream",
          "name": "stdout",
          "text": [
            "Epoch 1/30\n",
            "187/187 - 4s - 22ms/step - loss: 6.9012e-04 - val_loss: 0.0039\n",
            "Epoch 2/30\n",
            "187/187 - 1s - 5ms/step - loss: 1.4092e-04 - val_loss: 0.0077\n",
            "Epoch 3/30\n",
            "187/187 - 2s - 8ms/step - loss: 9.2481e-05 - val_loss: 0.0265\n",
            "Epoch 4/30\n",
            "187/187 - 1s - 6ms/step - loss: 1.5244e-04 - val_loss: 0.0252\n",
            "Epoch 5/30\n",
            "187/187 - 1s - 5ms/step - loss: 1.5156e-04 - val_loss: 0.0055\n",
            "Epoch 6/30\n",
            "187/187 - 1s - 7ms/step - loss: 8.1126e-05 - val_loss: 0.0081\n",
            "Epoch 7/30\n",
            "187/187 - 1s - 4ms/step - loss: 1.3621e-04 - val_loss: 0.0098\n",
            "Epoch 8/30\n",
            "187/187 - 1s - 7ms/step - loss: 9.7211e-05 - val_loss: 0.0037\n",
            "Epoch 9/30\n",
            "187/187 - 1s - 5ms/step - loss: 8.4949e-05 - val_loss: 0.0043\n",
            "Epoch 10/30\n",
            "187/187 - 1s - 5ms/step - loss: 8.5608e-05 - val_loss: 0.0035\n",
            "Epoch 11/30\n",
            "187/187 - 1s - 4ms/step - loss: 6.3060e-05 - val_loss: 0.0104\n",
            "Epoch 12/30\n",
            "187/187 - 1s - 7ms/step - loss: 9.9381e-05 - val_loss: 0.0046\n",
            "Epoch 13/30\n",
            "187/187 - 1s - 7ms/step - loss: 8.0118e-05 - val_loss: 0.0087\n",
            "Epoch 14/30\n",
            "187/187 - 1s - 6ms/step - loss: 5.4074e-05 - val_loss: 0.0146\n",
            "Epoch 15/30\n",
            "187/187 - 1s - 7ms/step - loss: 8.7207e-05 - val_loss: 0.0045\n",
            "Epoch 16/30\n",
            "187/187 - 1s - 5ms/step - loss: 6.5528e-05 - val_loss: 0.0042\n",
            "Epoch 17/30\n",
            "187/187 - 1s - 5ms/step - loss: 3.8169e-05 - val_loss: 0.0131\n",
            "Epoch 18/30\n",
            "187/187 - 1s - 5ms/step - loss: 5.5588e-05 - val_loss: 0.0107\n",
            "Epoch 19/30\n",
            "187/187 - 1s - 5ms/step - loss: 4.0787e-05 - val_loss: 0.0060\n",
            "Epoch 20/30\n",
            "187/187 - 1s - 5ms/step - loss: 6.6589e-05 - val_loss: 0.0074\n",
            "Epoch 21/30\n",
            "187/187 - 1s - 7ms/step - loss: 6.8825e-05 - val_loss: 0.0073\n",
            "Epoch 22/30\n",
            "187/187 - 1s - 7ms/step - loss: 4.6882e-05 - val_loss: 0.0043\n",
            "Epoch 23/30\n",
            "187/187 - 1s - 5ms/step - loss: 4.3957e-05 - val_loss: 0.0107\n",
            "Epoch 24/30\n",
            "187/187 - 1s - 7ms/step - loss: 3.4364e-05 - val_loss: 0.0060\n",
            "Epoch 25/30\n",
            "187/187 - 1s - 5ms/step - loss: 4.2675e-05 - val_loss: 0.0063\n",
            "Epoch 26/30\n",
            "187/187 - 2s - 9ms/step - loss: 3.5986e-05 - val_loss: 0.0087\n",
            "Epoch 27/30\n",
            "187/187 - 1s - 5ms/step - loss: 3.2203e-05 - val_loss: 0.0045\n",
            "Epoch 28/30\n",
            "187/187 - 1s - 6ms/step - loss: 5.2788e-05 - val_loss: 0.0045\n",
            "Epoch 29/30\n",
            "187/187 - 1s - 5ms/step - loss: 3.4539e-05 - val_loss: 0.0079\n",
            "Epoch 30/30\n",
            "187/187 - 1s - 5ms/step - loss: 3.3851e-05 - val_loss: 0.0095\n"
          ]
        },
        {
          "output_type": "execute_result",
          "data": {
            "text/plain": [
              "<keras.src.callbacks.history.History at 0x7f52b7603c90>"
            ]
          },
          "metadata": {},
          "execution_count": 6
        }
      ]
    },
    {
      "cell_type": "code",
      "source": [
        "def print_error(trainY, testY, train_predict, test_predict):\n",
        "    # Error of predictions\n",
        "  train_rmse = math.sqrt(mean_squared_error(trainY, train_predict))\n",
        "  test_rmse = math.sqrt(mean_squared_error(testY, test_predict))\n",
        "    # Print RMSE\n",
        "  print('Raíz do Erro Médio Quadrático para Treino: %.3f' % (train_rmse))\n",
        "  print('Raíz do Erro Médio Quadrático para Teste: %.3f' % (test_rmse))\n",
        "  return train_rmse, test_rmse\n",
        "\n",
        "# make predictions\n",
        "train_predict = model.predict(trainX)\n",
        "test_predict = model.predict(testX)\n",
        "# Mean square error\n",
        "train_rmse_base, test_rmse_base = print_error(trainY, testY, train_predict, test_predict)"
      ],
      "metadata": {
        "colab": {
          "base_uri": "https://localhost:8080/"
        },
        "id": "kNUySaZOUl9H",
        "outputId": "27a1a82f-9e05-4e82-c8eb-c3088495aaf0"
      },
      "execution_count": 7,
      "outputs": [
        {
          "output_type": "stream",
          "name": "stdout",
          "text": [
            "\u001b[1m6/6\u001b[0m \u001b[32m━━━━━━━━━━━━━━━━━━━━\u001b[0m\u001b[37m\u001b[0m \u001b[1m0s\u001b[0m 24ms/step\n",
            "\u001b[1m2/2\u001b[0m \u001b[32m━━━━━━━━━━━━━━━━━━━━\u001b[0m\u001b[37m\u001b[0m \u001b[1m0s\u001b[0m 21ms/step\n",
            "Raíz do Erro Médio Quadrático para Treino: 0.005\n",
            "Raíz do Erro Médio Quadrático para Teste: 0.098\n"
          ]
        }
      ]
    },
    {
      "cell_type": "code",
      "source": [
        "# Plot the result\n",
        "def plot_result(trainY, testY, train_predict, test_predict):\n",
        "    actual = np.append(trainY, testY)\n",
        "    predictions = np.append(train_predict, test_predict)\n",
        "    rows = len(actual)\n",
        "    plt.figure(figsize=(15, 6), dpi=80)\n",
        "    plt.plot(range(rows), actual)\n",
        "    plt.plot(range(rows), predictions)\n",
        "    plt.axvline(x=len(trainY), color='r')\n",
        "    plt.legend(['Original', 'Previsão'])\n",
        "    plt.xlabel('Observações')\n",
        "    plt.ylabel('Valores Escalados das Acoes')\n",
        "    plt.title('Valores Originais vs. Previstos. Linha vermelha separa os dados de teste')\n",
        "plot_result(trainY, testY, train_predict, test_predict)"
      ],
      "metadata": {
        "colab": {
          "base_uri": "https://localhost:8080/",
          "height": 451
        },
        "id": "IeCl1kbSVFrD",
        "outputId": "d86684fd-c9aa-4f5c-f8ae-4a1a8fab26c3"
      },
      "execution_count": 8,
      "outputs": [
        {
          "output_type": "display_data",
          "data": {
            "text/plain": [
              "<Figure size 1200x480 with 1 Axes>"
            ],
            "image/png": "[encoded data removed]"
          },
          "metadata": {}
        }
      ]
    },
    {
      "cell_type": "markdown",
      "source": [
        "\n",
        "* Raíz do Erro Médio Quadrático para Treino: 0.005\n",
        "* Raíz do Erro Médio Quadrático para Teste: 0.098\n",
        "\n",
        "Possivel Overfitting do modelo Base"
      ],
      "metadata": {
        "id": "eyN6i9lbbtU8"
      }
    },
    {
      "cell_type": "markdown",
      "source": [
        "## 2. Experimente adicionar mais uma camada LSTM após a primeira (mesmo número de unidades ocultas do item anterior). Reporte o resultado da mesma forma que o item anterior e comente se houve melhora\n",
        "\n",
        "Dica: para conectar duas camadas LSTM do Tensorflow, devemos usar o parâmetro return_sequences=True. A última camada LSTM antes da Dense não ser return_sequences=False."
      ],
      "metadata": {
        "id": "RPAtYEbW0eAT"
      }
    },
    {
      "cell_type": "code",
      "source": [
        "def create_RNN2(hidden_units, dense_units, input_shape, activation):\n",
        "    model = Sequential()\n",
        "    model.add(LSTM(hidden_units, input_shape=input_shape,\n",
        "                   activation=activation[0], return_sequences=True))\n",
        "    model.add(LSTM(hidden_units, activation=activation[0]))\n",
        "    model.add(Dense(units=dense_units, activation=activation[1]))\n",
        "    model.compile(loss='mean_squared_error', optimizer='adam')\n",
        "    return model\n",
        "\n",
        "model2 = create_RNN2(hidden_units=50, dense_units=1, input_shape=(time_steps,1),\n",
        "                   activation=['tanh', 'tanh'])\n",
        "model2.fit(trainX, trainY, validation_data=(testX, testY), epochs=30, batch_size=1, verbose=2)\n",
        "\n",
        "def print_error(trainY, testY, train_predict, test_predict):\n",
        "    # Error of predictions\n",
        "    train_rmse = math.sqrt(mean_squared_error(trainY, train_predict))\n",
        "    test_rmse = math.sqrt(mean_squared_error(testY, test_predict))\n",
        "    # Print RMSE\n",
        "    print('Modelo 2: Raíz do Erro Médio Quadrático para Treino: %.3f' % (train_rmse))\n",
        "    print('Modelo 2: Raíz do Erro Médio Quadrático para Teste: %.3f' % (test_rmse))\n",
        "    return train_rmse, test_rmse\n",
        "\n",
        "# make predictions\n",
        "train_predict2 = model2.predict(trainX)\n",
        "test_predict2 = model2.predict(testX)\n",
        "# Mean square error\n",
        "train_rmse_2LSTM, test_rmse_2LSTM = print_error(trainY, testY, train_predict2, test_predict2)\n",
        "\n",
        "def plot_result(trainY, testY, train_predict, test_predict):\n",
        "    actual = np.append(trainY, testY)\n",
        "    predictions = np.append(train_predict, test_predict)\n",
        "    rows = len(actual)\n",
        "    plt.figure(figsize=(15, 6), dpi=80)\n",
        "    plt.plot(range(rows), actual)\n",
        "    plt.plot(range(rows), predictions)\n",
        "    plt.axvline(x=len(trainY), color='r')\n",
        "    plt.legend(['Original', 'Previsão'])\n",
        "    plt.xlabel('Observações')\n",
        "    plt.ylabel('Valores Escalados das Acoes')\n",
        "    plt.title('Valores Originais vs. Previstos. Linha vermelha separa os dados de teste')\n",
        "plot_result(trainY, testY, train_predict2, test_predict2)"
      ],
      "metadata": {
        "colab": {
          "base_uri": "https://localhost:8080/",
          "height": 1000
        },
        "id": "CA_0P2Tk0T4y",
        "outputId": "c4fa6a1b-32b6-43d2-e8f3-96383daa1864"
      },
      "execution_count": 9,
      "outputs": [
        {
          "output_type": "stream",
          "name": "stdout",
          "text": [
            "Epoch 1/30\n"
          ]
        },
        {
          "output_type": "stream",
          "name": "stderr",
          "text": [
            "/usr/local/lib/python3.11/dist-packages/keras/src/layers/rnn/rnn.py:200: UserWarning: Do not pass an `input_shape`/`input_dim` argument to a layer. When using Sequential models, prefer using an `Input(shape)` object as the first layer in the model instead.\n",
            "  super().__init__(**kwargs)\n"
          ]
        },
        {
          "output_type": "stream",
          "name": "stdout",
          "text": [
            "187/187 - 3s - 17ms/step - loss: 0.0011 - val_loss: 0.0031\n",
            "Epoch 2/30\n",
            "187/187 - 2s - 12ms/step - loss: 5.5043e-04 - val_loss: 0.0548\n",
            "Epoch 3/30\n",
            "187/187 - 1s - 8ms/step - loss: 3.3403e-04 - val_loss: 0.0074\n",
            "Epoch 4/30\n",
            "187/187 - 2s - 12ms/step - loss: 1.9178e-04 - val_loss: 0.0040\n",
            "Epoch 5/30\n",
            "187/187 - 1s - 7ms/step - loss: 3.2799e-04 - val_loss: 0.0072\n",
            "Epoch 6/30\n",
            "187/187 - 1s - 7ms/step - loss: 2.1000e-04 - val_loss: 0.0069\n",
            "Epoch 7/30\n",
            "187/187 - 1s - 7ms/step - loss: 1.4493e-04 - val_loss: 0.0046\n",
            "Epoch 8/30\n",
            "187/187 - 1s - 7ms/step - loss: 1.1285e-04 - val_loss: 0.0114\n",
            "Epoch 9/30\n",
            "187/187 - 2s - 13ms/step - loss: 1.7042e-04 - val_loss: 0.0172\n",
            "Epoch 10/30\n",
            "187/187 - 1s - 8ms/step - loss: 1.2543e-04 - val_loss: 0.0131\n",
            "Epoch 11/30\n",
            "187/187 - 2s - 9ms/step - loss: 1.3229e-04 - val_loss: 0.0505\n",
            "Epoch 12/30\n",
            "187/187 - 2s - 11ms/step - loss: 1.1899e-04 - val_loss: 0.0074\n",
            "Epoch 13/30\n",
            "187/187 - 1s - 7ms/step - loss: 2.7453e-04 - val_loss: 0.0118\n",
            "Epoch 14/30\n",
            "187/187 - 1s - 6ms/step - loss: 9.4904e-05 - val_loss: 0.0050\n",
            "Epoch 15/30\n",
            "187/187 - 1s - 6ms/step - loss: 7.3445e-05 - val_loss: 0.0228\n",
            "Epoch 16/30\n",
            "187/187 - 1s - 7ms/step - loss: 2.0959e-04 - val_loss: 0.0451\n",
            "Epoch 17/30\n",
            "187/187 - 1s - 6ms/step - loss: 1.6720e-04 - val_loss: 0.0191\n",
            "Epoch 18/30\n",
            "187/187 - 1s - 7ms/step - loss: 9.0452e-05 - val_loss: 0.0084\n",
            "Epoch 19/30\n",
            "187/187 - 1s - 7ms/step - loss: 8.9483e-05 - val_loss: 0.0378\n",
            "Epoch 20/30\n",
            "187/187 - 2s - 8ms/step - loss: 1.2263e-04 - val_loss: 0.0311\n",
            "Epoch 21/30\n",
            "187/187 - 2s - 12ms/step - loss: 1.0345e-04 - val_loss: 0.0086\n",
            "Epoch 22/30\n",
            "187/187 - 1s - 6ms/step - loss: 7.0962e-05 - val_loss: 0.0109\n",
            "Epoch 23/30\n",
            "187/187 - 1s - 6ms/step - loss: 3.1282e-05 - val_loss: 0.0229\n",
            "Epoch 24/30\n",
            "187/187 - 1s - 7ms/step - loss: 1.5940e-04 - val_loss: 0.0127\n",
            "Epoch 25/30\n",
            "187/187 - 1s - 7ms/step - loss: 5.1144e-05 - val_loss: 0.0094\n",
            "Epoch 26/30\n",
            "187/187 - 1s - 8ms/step - loss: 7.7596e-05 - val_loss: 0.0447\n",
            "Epoch 27/30\n",
            "187/187 - 1s - 6ms/step - loss: 1.2592e-04 - val_loss: 0.0275\n",
            "Epoch 28/30\n",
            "187/187 - 1s - 7ms/step - loss: 1.1406e-04 - val_loss: 0.0173\n",
            "Epoch 29/30\n",
            "187/187 - 2s - 12ms/step - loss: 9.5652e-05 - val_loss: 0.0048\n",
            "Epoch 30/30\n",
            "187/187 - 1s - 7ms/step - loss: 7.7098e-05 - val_loss: 0.0082\n",
            "\u001b[1m6/6\u001b[0m \u001b[32m━━━━━━━━━━━━━━━━━━━━\u001b[0m\u001b[37m\u001b[0m \u001b[1m0s\u001b[0m 39ms/step\n",
            "\u001b[1m2/2\u001b[0m \u001b[32m━━━━━━━━━━━━━━━━━━━━\u001b[0m\u001b[37m\u001b[0m \u001b[1m0s\u001b[0m 19ms/step\n",
            "Modelo 2: Raíz do Erro Médio Quadrático para Treino: 0.005\n",
            "Modelo 2: Raíz do Erro Médio Quadrático para Teste: 0.091\n"
          ]
        },
        {
          "output_type": "display_data",
          "data": {
            "text/plain": [
              "<Figure size 1200x480 with 1 Axes>"
            ],
            "image/png": "[encoded data removed]"
          },
          "metadata": {}
        }
      ]
    },
    {
      "cell_type": "markdown",
      "source": [
        "Saimos de:\n",
        "* Raíz do Erro Médio Quadrático para Treino: 0.005\n",
        "* Raíz do Erro Médio Quadrático para Teste: 0.098\n",
        "\n",
        "Para, com mais 1 camada LSTM:\n",
        "* Raíz do Erro Médio Quadrático para Treino: 0.005\n",
        "* Raíz do Erro Médio Quadrático para Teste: 0.091"
      ],
      "metadata": {
        "id": "WQbqt0rt2HKa"
      }
    },
    {
      "cell_type": "markdown",
      "source": [
        "Com a adicao de uma camada LSTM a mais, o modelo teve uma leve melhorada do  RMSE de teste. Mostrando uma maior capacidade de generalizacao."
      ],
      "metadata": {
        "id": "TaUpDq6WcMo8"
      }
    },
    {
      "cell_type": "markdown",
      "source": [
        "## 3. Adicione um Dropout de 20% após cada camada LSTM e reporte se houve melhora."
      ],
      "metadata": {
        "id": "zR_ahTMe63MH"
      }
    },
    {
      "cell_type": "code",
      "source": [
        "def create_RNN3(hidden_units, dense_units, input_shape, activation):\n",
        "    model = Sequential()\n",
        "    model.add(LSTM(hidden_units, input_shape=input_shape,\n",
        "                   activation=activation[0], return_sequences=True))\n",
        "    model.add(Dropout(0.20))\n",
        "    model.add(LSTM(hidden_units, activation=activation[0]))\n",
        "    model.add(Dropout(0.20))\n",
        "    model.add(Dense(units=dense_units, activation=activation[1]))\n",
        "    model.compile(loss='mean_squared_error', optimizer='adam')\n",
        "    return model\n",
        "\n",
        "model3 = create_RNN3(hidden_units=50, dense_units=1, input_shape=(time_steps,1),\n",
        "                   activation=['tanh', 'tanh'])\n",
        "model3.fit(trainX, trainY, validation_data=(testX, testY), epochs=30, batch_size=1, verbose=2)\n",
        "\n",
        "def print_error(trainY, testY, train_predict, test_predict):\n",
        "    # Error of predictions\n",
        "    train_rmse = math.sqrt(mean_squared_error(trainY, train_predict))\n",
        "    test_rmse = math.sqrt(mean_squared_error(testY, test_predict))\n",
        "    # Print RMSE\n",
        "    print('Modelo 3: Raíz do Erro Médio Quadrático para Treino: %.3f' % (train_rmse))\n",
        "    print('Modelo 3: Raíz do Erro Médio Quadrático para Teste: %.3f' % (test_rmse))\n",
        "    return train_rmse, test_rmse\n",
        "# make predictions\n",
        "train_predict3 = model3.predict(trainX)\n",
        "test_predict3 = model3.predict(testX)\n",
        "# Mean square error\n",
        "train_rmse_2LSTM_dropout, test_rmse_2LSTM_dropout = print_error(trainY, testY, train_predict3, test_predict3)\n",
        "\n",
        "def plot_result(trainY, testY, train_predict, test_predict):\n",
        "    actual = np.append(trainY, testY)\n",
        "    predictions = np.append(train_predict, test_predict)\n",
        "    rows = len(actual)\n",
        "    plt.figure(figsize=(15, 6), dpi=80)\n",
        "    plt.plot(range(rows), actual)\n",
        "    plt.plot(range(rows), predictions)\n",
        "    plt.axvline(x=len(trainY), color='r')\n",
        "    plt.legend(['Original', 'Previsão'])\n",
        "    plt.xlabel('Observações')\n",
        "    plt.ylabel('Valores Escalados das Acoes')\n",
        "    plt.title('Valores Originais vs. Previstos. Linha vermelha separa os dados de teste')\n",
        "plot_result(trainY, testY, train_predict3, test_predict3)"
      ],
      "metadata": {
        "colab": {
          "base_uri": "https://localhost:8080/",
          "height": 1000
        },
        "id": "Dg0I1vTh6nGo",
        "outputId": "3c3397eb-8185-4da0-cabe-017d3f8d15cd"
      },
      "execution_count": 10,
      "outputs": [
        {
          "output_type": "stream",
          "name": "stdout",
          "text": [
            "Epoch 1/30\n"
          ]
        },
        {
          "output_type": "stream",
          "name": "stderr",
          "text": [
            "/usr/local/lib/python3.11/dist-packages/keras/src/layers/rnn/rnn.py:200: UserWarning: Do not pass an `input_shape`/`input_dim` argument to a layer. When using Sequential models, prefer using an `Input(shape)` object as the first layer in the model instead.\n",
            "  super().__init__(**kwargs)\n"
          ]
        },
        {
          "output_type": "stream",
          "name": "stdout",
          "text": [
            "187/187 - 4s - 23ms/step - loss: 8.3973e-04 - val_loss: 0.0417\n",
            "Epoch 2/30\n",
            "187/187 - 1s - 6ms/step - loss: 3.1202e-04 - val_loss: 0.0251\n",
            "Epoch 3/30\n",
            "187/187 - 1s - 8ms/step - loss: 3.5767e-04 - val_loss: 0.0634\n",
            "Epoch 4/30\n",
            "187/187 - 2s - 13ms/step - loss: 3.1496e-04 - val_loss: 0.0864\n",
            "Epoch 5/30\n",
            "187/187 - 1s - 6ms/step - loss: 0.0012 - val_loss: 0.0137\n",
            "Epoch 6/30\n",
            "187/187 - 1s - 6ms/step - loss: 1.2444e-04 - val_loss: 0.0065\n",
            "Epoch 7/30\n",
            "187/187 - 1s - 6ms/step - loss: 1.8685e-04 - val_loss: 0.0042\n",
            "Epoch 8/30\n",
            "187/187 - 1s - 7ms/step - loss: 1.0584e-04 - val_loss: 0.0056\n",
            "Epoch 9/30\n",
            "187/187 - 1s - 7ms/step - loss: 1.0595e-04 - val_loss: 0.0036\n",
            "Epoch 10/30\n",
            "187/187 - 1s - 7ms/step - loss: 2.6374e-04 - val_loss: 0.0051\n",
            "Epoch 11/30\n",
            "187/187 - 1s - 7ms/step - loss: 1.8160e-04 - val_loss: 0.1002\n",
            "Epoch 12/30\n",
            "187/187 - 2s - 10ms/step - loss: 7.3856e-04 - val_loss: 0.0834\n",
            "Epoch 13/30\n",
            "187/187 - 1s - 7ms/step - loss: 3.5365e-04 - val_loss: 0.0122\n",
            "Epoch 14/30\n",
            "187/187 - 3s - 14ms/step - loss: 1.0927e-04 - val_loss: 0.0157\n",
            "Epoch 15/30\n",
            "187/187 - 1s - 6ms/step - loss: 8.9609e-05 - val_loss: 0.0067\n",
            "Epoch 16/30\n",
            "187/187 - 1s - 6ms/step - loss: 2.5444e-04 - val_loss: 0.0207\n",
            "Epoch 17/30\n",
            "187/187 - 1s - 7ms/step - loss: 2.3577e-04 - val_loss: 0.0128\n",
            "Epoch 18/30\n",
            "187/187 - 1s - 6ms/step - loss: 1.9228e-04 - val_loss: 0.0110\n",
            "Epoch 19/30\n",
            "187/187 - 1s - 6ms/step - loss: 1.2730e-04 - val_loss: 0.0198\n",
            "Epoch 20/30\n",
            "187/187 - 2s - 9ms/step - loss: 1.6807e-04 - val_loss: 0.0090\n",
            "Epoch 21/30\n",
            "187/187 - 2s - 8ms/step - loss: 3.0821e-04 - val_loss: 0.0058\n",
            "Epoch 22/30\n",
            "187/187 - 1s - 7ms/step - loss: 1.0496e-04 - val_loss: 0.0071\n",
            "Epoch 23/30\n",
            "187/187 - 1s - 7ms/step - loss: 2.1840e-04 - val_loss: 0.0032\n",
            "Epoch 24/30\n",
            "187/187 - 1s - 7ms/step - loss: 1.0324e-04 - val_loss: 0.0042\n",
            "Epoch 25/30\n",
            "187/187 - 1s - 8ms/step - loss: 2.2324e-04 - val_loss: 0.0477\n",
            "Epoch 26/30\n",
            "187/187 - 1s - 7ms/step - loss: 1.2935e-04 - val_loss: 0.0262\n",
            "Epoch 27/30\n",
            "187/187 - 1s - 7ms/step - loss: 2.4939e-04 - val_loss: 0.0050\n",
            "Epoch 28/30\n",
            "187/187 - 3s - 15ms/step - loss: 2.3938e-04 - val_loss: 0.0050\n",
            "Epoch 29/30\n",
            "187/187 - 2s - 9ms/step - loss: 1.2049e-04 - val_loss: 0.0044\n",
            "Epoch 30/30\n",
            "187/187 - 1s - 7ms/step - loss: 1.0210e-04 - val_loss: 0.0041\n",
            "\u001b[1m6/6\u001b[0m \u001b[32m━━━━━━━━━━━━━━━━━━━━\u001b[0m\u001b[37m\u001b[0m \u001b[1m0s\u001b[0m 37ms/step\n",
            "\u001b[1m2/2\u001b[0m \u001b[32m━━━━━━━━━━━━━━━━━━━━\u001b[0m\u001b[37m\u001b[0m \u001b[1m0s\u001b[0m 18ms/step\n",
            "Modelo 3: Raíz do Erro Médio Quadrático para Treino: 0.012\n",
            "Modelo 3: Raíz do Erro Médio Quadrático para Teste: 0.064\n"
          ]
        },
        {
          "output_type": "display_data",
          "data": {
            "text/plain": [
              "<Figure size 1200x480 with 1 Axes>"
            ],
            "image/png": "[encoded data removed]"
          },
          "metadata": {}
        }
      ]
    },
    {
      "cell_type": "markdown",
      "source": [
        "Modelo 2 com duas camadas LSTM:\n",
        "* Raíz do Erro Médio Quadrático para Treino: 0.005\n",
        "* Raíz do Erro Médio Quadrático para Teste: 0.091\n",
        "\n",
        "Modelo 3 com duas camadas Dropout apos LSTM:\n",
        "* Modelo 3: Raíz do Erro Médio Quadrático para Treino: 0.012\n",
        "* Modelo 3: Raíz do Erro Médio Quadrático para Teste: 0.064"
      ],
      "metadata": {
        "id": "cLzhQYqD8XpK"
      }
    },
    {
      "cell_type": "markdown",
      "source": [
        "Desta vez novo modelo, teve um ganho mais substancial do RMSE do teste, mesmo com a perda dos dados de treino devido ao dropout, isto e um bom sinal POis demontra que o modelo nao esta sobreajustado aos dados de treino."
      ],
      "metadata": {
        "id": "BRck_PttceJl"
      }
    },
    {
      "cell_type": "markdown",
      "source": [
        "## 4. Finalmente, modifique o modelo para que ele tenha 4 blocos LSTM (50 unidades ocultas) + Dropout (20 %) antes da camada Dense. Reporte os resultados deste último modelo e compare com os demais"
      ],
      "metadata": {
        "id": "wa-Ljwqw9eN_"
      }
    },
    {
      "cell_type": "code",
      "source": [
        "def create_RNN4(hidden_units, dense_units, input_shape, activation):\n",
        "    model = Sequential()\n",
        "\n",
        "    model.add(LSTM(hidden_units, input_shape=input_shape, activation=activation[0], return_sequences=True))\n",
        "    model.add(Dropout(0.20))\n",
        "\n",
        "    model.add(LSTM(hidden_units, activation=activation[0], return_sequences=True))\n",
        "    model.add(Dropout(0.20))\n",
        "\n",
        "    model.add(LSTM(hidden_units, activation=activation[0], return_sequences=True))\n",
        "    model.add(Dropout(0.20))\n",
        "\n",
        "    model.add(LSTM(hidden_units, activation=activation[0], return_sequences=False))\n",
        "    model.add(Dropout(0.20))\n",
        "\n",
        "    model.add(Dense(units=dense_units, activation=activation[1]))\n",
        "\n",
        "    model.compile(loss='mean_squared_error', optimizer='adam')\n",
        "\n",
        "    return model\n",
        "\n",
        "model4 = create_RNN4(hidden_units=50, dense_units=1, input_shape=(time_steps,1),\n",
        "                   activation=['tanh', 'tanh'])\n",
        "model4.fit(trainX, trainY, validation_data=(testX, testY), epochs=30, batch_size=1, verbose=0)\n",
        "\n",
        "def print_error(trainY, testY, train_predict, test_predict):\n",
        "    # Error of predictions\n",
        "    train_rmse = math.sqrt(mean_squared_error(trainY, train_predict))\n",
        "    test_rmse = math.sqrt(mean_squared_error(testY, test_predict))\n",
        "    # Print RMSE\n",
        "    print('Modelo 4: Raíz do Erro Médio Quadrático para Treino: %.3f' % (train_rmse))\n",
        "    print('Modelo 4: Raíz do Erro Médio Quadrático para Teste: %.3f' % (test_rmse))\n",
        "    return train_rmse, test_rmse\n",
        "# make predictions\n",
        "train_predict4 = model4.predict(trainX)\n",
        "test_predict4 = model4.predict(testX)\n",
        "# Mean square error\n",
        "train_rmse_4LSTM, test_rmse_4LSTM = print_error(trainY, testY, train_predict4, test_predict4)\n",
        "\n",
        "def plot_result(trainY, testY, train_predict, test_predict):\n",
        "    actual = np.append(trainY, testY)\n",
        "    predictions = np.append(train_predict, test_predict)\n",
        "    rows = len(actual)\n",
        "    plt.figure(figsize=(15, 6), dpi=80)\n",
        "    plt.plot(range(rows), actual)\n",
        "    plt.plot(range(rows), predictions)\n",
        "    plt.axvline(x=len(trainY), color='r')\n",
        "    plt.legend(['Original', 'Previsão'])\n",
        "    plt.xlabel('Observações')\n",
        "    plt.ylabel('Valores Escalados das Acoes')\n",
        "    plt.title('Valores Originais vs. Previstos. Linha vermelha separa os dados de teste')\n",
        "\n",
        "plot_result(trainY, testY, train_predict4, test_predict4)"
      ],
      "metadata": {
        "colab": {
          "base_uri": "https://localhost:8080/",
          "height": 575
        },
        "id": "ypGVfWiq8tih",
        "outputId": "fa503d8e-9f3a-4eb4-a807-56f91a1e1f60"
      },
      "execution_count": 11,
      "outputs": [
        {
          "output_type": "stream",
          "name": "stderr",
          "text": [
            "/usr/local/lib/python3.11/dist-packages/keras/src/layers/rnn/rnn.py:200: UserWarning: Do not pass an `input_shape`/`input_dim` argument to a layer. When using Sequential models, prefer using an `Input(shape)` object as the first layer in the model instead.\n",
            "  super().__init__(**kwargs)\n"
          ]
        },
        {
          "output_type": "stream",
          "name": "stdout",
          "text": [
            "\u001b[1m6/6\u001b[0m \u001b[32m━━━━━━━━━━━━━━━━━━━━\u001b[0m\u001b[37m\u001b[0m \u001b[1m1s\u001b[0m 71ms/step\n",
            "\u001b[1m2/2\u001b[0m \u001b[32m━━━━━━━━━━━━━━━━━━━━\u001b[0m\u001b[37m\u001b[0m \u001b[1m0s\u001b[0m 21ms/step\n",
            "Modelo 4: Raíz do Erro Médio Quadrático para Treino: 0.012\n",
            "Modelo 4: Raíz do Erro Médio Quadrático para Teste: 0.202\n"
          ]
        },
        {
          "output_type": "display_data",
          "data": {
            "text/plain": [
              "<Figure size 1200x480 with 1 Axes>"
            ],
            "image/png": "[encoded data removed]"
          },
          "metadata": {}
        }
      ]
    },
    {
      "cell_type": "markdown",
      "source": [
        "Modelo 3 com duas camadas Dropout apos LSTM:\n",
        "\n",
        "* Modelo 3: Raíz do Erro Médio Quadrático para Treino: 0.012\n",
        "* Modelo 3: Raíz do Erro Médio Quadrático para Teste: 0.064\n",
        "\n",
        "Modelo 4 - Bloco com 4 LSTM\n",
        "* Modelo 3: Raíz do Erro Médio Quadrático para Treino: 0.012\n",
        "* Modelo 3: Raíz do Erro Médio Quadrático para Teste: 0.202"
      ],
      "metadata": {
        "id": "5qrECR1o82oR"
      }
    },
    {
      "cell_type": "markdown",
      "source": [
        "Porem, desta vez, o modelo piorou, ficando muito ajustado ao dados de treino. E perdendo muito da capacidade de generalizacao."
      ],
      "metadata": {
        "id": "zwI5MNRgcxqP"
      }
    },
    {
      "cell_type": "markdown",
      "source": [
        "## Resultados Obtidos"
      ],
      "metadata": {
        "id": "309lo92XJjQa"
      }
    },
    {
      "cell_type": "code",
      "source": [
        "resultados = [\n",
        "    {'Modelo': 'Base', 'treino' : train_rmse_base, 'Teste': test_rmse_base},\n",
        "    {'Modelo': '2 LSTM', 'treino' : train_rmse_2LSTM, 'Teste': test_rmse_2LSTM},\n",
        "    {'Modelo': '2 LSTM + Dropout', 'treino' : train_rmse_2LSTM_dropout, 'Teste': test_rmse_2LSTM_dropout},\n",
        "    {'Modelo': '4 LSTM', 'treino' : train_rmse_4LSTM, 'Teste': test_rmse_4LSTM}\n",
        "    ]\n",
        "import pandas as pd\n",
        "tabela_resultados = pd.DataFrame(resultados)\n",
        "tabela_resultados"
      ],
      "metadata": {
        "colab": {
          "base_uri": "https://localhost:8080/",
          "height": 175
        },
        "id": "wuP17D3wD6t_",
        "outputId": "13fb02ae-a1f9-4f07-8185-c337138370dd"
      },
      "execution_count": 12,
      "outputs": [
        {
          "output_type": "execute_result",
          "data": {
            "text/plain": [
              "             Modelo    treino     Teste\n",
              "0              Base  0.004732  0.097692\n",
              "1            2 LSTM  0.005183  0.090691\n",
              "2  2 LSTM + Dropout  0.012488  0.064045\n",
              "3            4 LSTM  0.011578  0.202174"
            ],
            "text/html": [
              "\n",
              "  <div id=\"df-daf9f7a0-3b82-4cc3-9122-3096a7de993f\" class=\"colab-df-container\">\n",
              "    <div>\n",
              "<style scoped>\n",
              "    .dataframe tbody tr th:only-of-type {\n",
              "        vertical-align: middle;\n",
              "    }\n",
              "\n",
              "    .dataframe tbody tr th {\n",
              "        vertical-align: top;\n",
              "    }\n",
              "\n",
              "    .dataframe thead th {\n",
              "        text-align: right;\n",
              "    }\n",
              "</style>\n",
              "<table border=\"1\" class=\"dataframe\">\n",
              "  <thead>\n",
              "    <tr style=\"text-align: right;\">\n",
              "      <th></th>\n",
              "      <th>Modelo</th>\n",
              "      <th>treino</th>\n",
              "      <th>Teste</th>\n",
              "    </tr>\n",
              "  </thead>\n",
              "  <tbody>\n",
              "    <tr>\n",
              "      <th>0</th>\n",
              "      <td>Base</td>\n",
              "      <td>0.004732</td>\n",
              "      <td>0.097692</td>\n",
              "    </tr>\n",
              "    <tr>\n",
              "      <th>1</th>\n",
              "      <td>2 LSTM</td>\n",
              "      <td>0.005183</td>\n",
              "      <td>0.090691</td>\n",
              "    </tr>\n",
              "    <tr>\n",
              "      <th>2</th>\n",
              "      <td>2 LSTM + Dropout</td>\n",
              "      <td>0.012488</td>\n",
              "      <td>0.064045</td>\n",
              "    </tr>\n",
              "    <tr>\n",
              "      <th>3</th>\n",
              "      <td>4 LSTM</td>\n",
              "      <td>0.011578</td>\n",
              "      <td>0.202174</td>\n",
              "    </tr>\n",
              "  </tbody>\n",
              "</table>\n",
              "</div>\n",
              "    <div class=\"colab-df-buttons\">\n",
              "\n",
              "  <div class=\"colab-df-container\">\n",
              "    <button class=\"colab-df-convert\" onclick=\"convertToInteractive('df-daf9f7a0-3b82-4cc3-9122-3096a7de993f')\"\n",
              "            title=\"Convert this dataframe to an interactive table.\"\n",
              "            style=\"display:none;\">\n",
              "\n",
              "  <svg xmlns=\"http://www.w3.org/2000/svg\" height=\"24px\" viewBox=\"0 -960 960 960\">\n",
              "    <path d=\"M120-120v-720h720v720H120Zm60-500h600v-160H180v160Zm220 220h160v-160H400v160Zm0 220h160v-160H400v160ZM180-400h160v-160H180v160Zm440 0h160v-160H620v160ZM180-180h160v-160H180v160Zm440 0h160v-160H620v160Z\"/>\n",
              "  </svg>\n",
              "    </button>\n",
              "\n",
              "  <style>\n",
              "    .colab-df-container {\n",
              "      display:flex;\n",
              "      gap: 12px;\n",
              "    }\n",
              "\n",
              "    .colab-df-convert {\n",
              "      background-color: #E8F0FE;\n",
              "      border: none;\n",
              "      border-radius: 50%;\n",
              "      cursor: pointer;\n",
              "      display: none;\n",
              "      fill: #1967D2;\n",
              "      height: 32px;\n",
              "      padding: 0 0 0 0;\n",
              "      width: 32px;\n",
              "    }\n",
              "\n",
              "    .colab-df-convert:hover {\n",
              "      background-color: #E2EBFA;\n",
              "      box-shadow: 0px 1px 2px rgba(60, 64, 67, 0.3), 0px 1px 3px 1px rgba(60, 64, 67, 0.15);\n",
              "      fill: #174EA6;\n",
              "    }\n",
              "\n",
              "    .colab-df-buttons div {\n",
              "      margin-bottom: 4px;\n",
              "    }\n",
              "\n",
              "    [theme=dark] .colab-df-convert {\n",
              "      background-color: #3B4455;\n",
              "      fill: #D2E3FC;\n",
              "    }\n",
              "\n",
              "    [theme=dark] .colab-df-convert:hover {\n",
              "      background-color: #434B5C;\n",
              "      box-shadow: 0px 1px 3px 1px rgba(0, 0, 0, 0.15);\n",
              "      filter: drop-shadow(0px 1px 2px rgba(0, 0, 0, 0.3));\n",
              "      fill: #FFFFFF;\n",
              "    }\n",
              "  </style>\n",
              "\n",
              "    <script>\n",
              "      const buttonEl =\n",
              "        document.querySelector('#df-daf9f7a0-3b82-4cc3-9122-3096a7de993f button.colab-df-convert');\n",
              "      buttonEl.style.display =\n",
              "        google.colab.kernel.accessAllowed ? 'block' : 'none';\n",
              "\n",
              "      async function convertToInteractive(key) {\n",
              "        const element = document.querySelector('#df-daf9f7a0-3b82-4cc3-9122-3096a7de993f');\n",
              "        const dataTable =\n",
              "          await google.colab.kernel.invokeFunction('convertToInteractive',\n",
              "                                                    [key], {});\n",
              "        if (!dataTable) return;\n",
              "\n",
              "        const docLinkHtml = 'Like what you see? Visit the ' +\n",
              "          '<a target=\"_blank\" href=https://colab.research.google.com/notebooks/data_table.ipynb>data table notebook</a>'\n",
              "          + ' to learn more about interactive tables.';\n",
              "        element.innerHTML = '';\n",
              "        dataTable['output_type'] = 'display_data';\n",
              "        await google.colab.output.renderOutput(dataTable, element);\n",
              "        const docLink = document.createElement('div');\n",
              "        docLink.innerHTML = docLinkHtml;\n",
              "        element.appendChild(docLink);\n",
              "      }\n",
              "    </script>\n",
              "  </div>\n",
              "\n",
              "\n",
              "<div id=\"df-188fb53f-412f-4a2f-a5ca-53c5b9d57fca\">\n",
              "  <button class=\"colab-df-quickchart\" onclick=\"quickchart('df-188fb53f-412f-4a2f-a5ca-53c5b9d57fca')\"\n",
              "            title=\"Suggest charts\"\n",
              "            style=\"display:none;\">\n",
              "\n",
              "<svg xmlns=\"http://www.w3.org/2000/svg\" height=\"24px\"viewBox=\"0 0 24 24\"\n",
              "     width=\"24px\">\n",
              "    <g>\n",
              "        <path d=\"M19 3H5c-1.1 0-2 .9-2 2v14c0 1.1.9 2 2 2h14c1.1 0 2-.9 2-2V5c0-1.1-.9-2-2-2zM9 17H7v-7h2v7zm4 0h-2V7h2v10zm4 0h-2v-4h2v4z\"/>\n",
              "    </g>\n",
              "</svg>\n",
              "  </button>\n",
              "\n",
              "<style>\n",
              "  .colab-df-quickchart {\n",
              "      --bg-color: #E8F0FE;\n",
              "      --fill-color: #1967D2;\n",
              "      --hover-bg-color: #E2EBFA;\n",
              "      --hover-fill-color: #174EA6;\n",
              "      --disabled-fill-color: #AAA;\n",
              "      --disabled-bg-color: #DDD;\n",
              "  }\n",
              "\n",
              "  [theme=dark] .colab-df-quickchart {\n",
              "      --bg-color: #3B4455;\n",
              "      --fill-color: #D2E3FC;\n",
              "      --hover-bg-color: #434B5C;\n",
              "      --hover-fill-color: #FFFFFF;\n",
              "      --disabled-bg-color: #3B4455;\n",
              "      --disabled-fill-color: #666;\n",
              "  }\n",
              "\n",
              "  .colab-df-quickchart {\n",
              "    background-color: var(--bg-color);\n",
              "    border: none;\n",
              "    border-radius: 50%;\n",
              "    cursor: pointer;\n",
              "    display: none;\n",
              "    fill: var(--fill-color);\n",
              "    height: 32px;\n",
              "    padding: 0;\n",
              "    width: 32px;\n",
              "  }\n",
              "\n",
              "  .colab-df-quickchart:hover {\n",
              "    background-color: var(--hover-bg-color);\n",
              "    box-shadow: 0 1px 2px rgba(60, 64, 67, 0.3), 0 1px 3px 1px rgba(60, 64, 67, 0.15);\n",
              "    fill: var(--button-hover-fill-color);\n",
              "  }\n",
              "\n",
              "  .colab-df-quickchart-complete:disabled,\n",
              "  .colab-df-quickchart-complete:disabled:hover {\n",
              "    background-color: var(--disabled-bg-color);\n",
              "    fill: var(--disabled-fill-color);\n",
              "    box-shadow: none;\n",
              "  }\n",
              "\n",
              "  .colab-df-spinner {\n",
              "    border: 2px solid var(--fill-color);\n",
              "    border-color: transparent;\n",
              "    border-bottom-color: var(--fill-color);\n",
              "    animation:\n",
              "      spin 1s steps(1) infinite;\n",
              "  }\n",
              "\n",
              "  @keyframes spin {\n",
              "    0% {\n",
              "      border-color: transparent;\n",
              "      border-bottom-color: var(--fill-color);\n",
              "      border-left-color: var(--fill-color);\n",
              "    }\n",
              "    20% {\n",
              "      border-color: transparent;\n",
              "      border-left-color: var(--fill-color);\n",
              "      border-top-color: var(--fill-color);\n",
              "    }\n",
              "    30% {\n",
              "      border-color: transparent;\n",
              "      border-left-color: var(--fill-color);\n",
              "      border-top-color: var(--fill-color);\n",
              "      border-right-color: var(--fill-color);\n",
              "    }\n",
              "    40% {\n",
              "      border-color: transparent;\n",
              "      border-right-color: var(--fill-color);\n",
              "      border-top-color: var(--fill-color);\n",
              "    }\n",
              "    60% {\n",
              "      border-color: transparent;\n",
              "      border-right-color: var(--fill-color);\n",
              "    }\n",
              "    80% {\n",
              "      border-color: transparent;\n",
              "      border-right-color: var(--fill-color);\n",
              "      border-bottom-color: var(--fill-color);\n",
              "    }\n",
              "    90% {\n",
              "      border-color: transparent;\n",
              "      border-bottom-color: var(--fill-color);\n",
              "    }\n",
              "  }\n",
              "</style>\n",
              "\n",
              "  <script>\n",
              "    async function quickchart(key) {\n",
              "      const quickchartButtonEl =\n",
              "        document.querySelector('#' + key + ' button');\n",
              "      quickchartButtonEl.disabled = true;  // To prevent multiple clicks.\n",
              "      quickchartButtonEl.classList.add('colab-df-spinner');\n",
              "      try {\n",
              "        const charts = await google.colab.kernel.invokeFunction(\n",
              "            'suggestCharts', [key], {});\n",
              "      } catch (error) {\n",
              "        console.error('Error during call to suggestCharts:', error);\n",
              "      }\n",
              "      quickchartButtonEl.classList.remove('colab-df-spinner');\n",
              "      quickchartButtonEl.classList.add('colab-df-quickchart-complete');\n",
              "    }\n",
              "    (() => {\n",
              "      let quickchartButtonEl =\n",
              "        document.querySelector('#df-188fb53f-412f-4a2f-a5ca-53c5b9d57fca button');\n",
              "      quickchartButtonEl.style.display =\n",
              "        google.colab.kernel.accessAllowed ? 'block' : 'none';\n",
              "    })();\n",
              "  </script>\n",
              "</div>\n",
              "\n",
              "  <div id=\"id_6ee51e41-6ad4-471c-b230-ae2bae9e3ba0\">\n",
              "    <style>\n",
              "      .colab-df-generate {\n",
              "        background-color: #E8F0FE;\n",
              "        border: none;\n",
              "        border-radius: 50%;\n",
              "        cursor: pointer;\n",
              "        display: none;\n",
              "        fill: #1967D2;\n",
              "        height: 32px;\n",
              "        padding: 0 0 0 0;\n",
              "        width: 32px;\n",
              "      }\n",
              "\n",
              "      .colab-df-generate:hover {\n",
              "        background-color: #E2EBFA;\n",
              "        box-shadow: 0px 1px 2px rgba(60, 64, 67, 0.3), 0px 1px 3px 1px rgba(60, 64, 67, 0.15);\n",
              "        fill: #174EA6;\n",
              "      }\n",
              "\n",
              "      [theme=dark] .colab-df-generate {\n",
              "        background-color: #3B4455;\n",
              "        fill: #D2E3FC;\n",
              "      }\n",
              "\n",
              "      [theme=dark] .colab-df-generate:hover {\n",
              "        background-color: #434B5C;\n",
              "        box-shadow: 0px 1px 3px 1px rgba(0, 0, 0, 0.15);\n",
              "        filter: drop-shadow(0px 1px 2px rgba(0, 0, 0, 0.3));\n",
              "        fill: #FFFFFF;\n",
              "      }\n",
              "    </style>\n",
              "    <button class=\"colab-df-generate\" onclick=\"generateWithVariable('tabela_resultados')\"\n",
              "            title=\"Generate code using this dataframe.\"\n",
              "            style=\"display:none;\">\n",
              "\n",
              "  <svg xmlns=\"http://www.w3.org/2000/svg\" height=\"24px\"viewBox=\"0 0 24 24\"\n",
              "       width=\"24px\">\n",
              "    <path d=\"M7,19H8.4L18.45,9,17,7.55,7,17.6ZM5,21V16.75L18.45,3.32a2,2,0,0,1,2.83,0l1.4,1.43a1.91,1.91,0,0,1,.58,1.4,1.91,1.91,0,0,1-.58,1.4L9.25,21ZM18.45,9,17,7.55Zm-12,3A5.31,5.31,0,0,0,4.9,8.1,5.31,5.31,0,0,0,1,6.5,5.31,5.31,0,0,0,4.9,4.9,5.31,5.31,0,0,0,6.5,1,5.31,5.31,0,0,0,8.1,4.9,5.31,5.31,0,0,0,12,6.5,5.46,5.46,0,0,0,6.5,12Z\"/>\n",
              "  </svg>\n",
              "    </button>\n",
              "    <script>\n",
              "      (() => {\n",
              "      const buttonEl =\n",
              "        document.querySelector('#id_6ee51e41-6ad4-471c-b230-ae2bae9e3ba0 button.colab-df-generate');\n",
              "      buttonEl.style.display =\n",
              "        google.colab.kernel.accessAllowed ? 'block' : 'none';\n",
              "\n",
              "      buttonEl.onclick = () => {\n",
              "        google.colab.notebook.generateWithVariable('tabela_resultados');\n",
              "      }\n",
              "      })();\n",
              "    </script>\n",
              "  </div>\n",
              "\n",
              "    </div>\n",
              "  </div>\n"
            ],
            "application/vnd.google.colaboratory.intrinsic+json": {
              "type": "dataframe",
              "variable_name": "tabela_resultados",
              "summary": "{\n  \"name\": \"tabela_resultados\",\n  \"rows\": 4,\n  \"fields\": [\n    {\n      \"column\": \"Modelo\",\n      \"properties\": {\n        \"dtype\": \"string\",\n        \"num_unique_values\": 4,\n        \"samples\": [\n          \"2 LSTM\",\n          \"4 LSTM\",\n          \"Base\"\n        ],\n        \"semantic_type\": \"\",\n        \"description\": \"\"\n      }\n    },\n    {\n      \"column\": \"treino\",\n      \"properties\": {\n        \"dtype\": \"number\",\n        \"std\": 0.004106045704965973,\n        \"min\": 0.004732259958512594,\n        \"max\": 0.012488418155133924,\n        \"num_unique_values\": 4,\n        \"samples\": [\n          0.005182802539715563,\n          0.01157762568313493,\n          0.004732259958512594\n        ],\n        \"semantic_type\": \"\",\n        \"description\": \"\"\n      }\n    },\n    {\n      \"column\": \"Teste\",\n      \"properties\": {\n        \"dtype\": \"number\",\n        \"std\": 0.06076999036567554,\n        \"min\": 0.06404547305153652,\n        \"max\": 0.20217444763917117,\n        \"num_unique_values\": 4,\n        \"samples\": [\n          0.09069079218336687,\n          0.20217444763917117,\n          0.09769183464220246\n        ],\n        \"semantic_type\": \"\",\n        \"description\": \"\"\n      }\n    }\n  ]\n}"
            }
          },
          "metadata": {},
          "execution_count": 12
        }
      ]
    },
    {
      "cell_type": "markdown",
      "source": [
        "Com base na tabela podemos concluir que o melhor modelo foi o 2 LSTMs + Dropout, com o menor RMSE de teste. E que o ultimo modelo, o mais complexo, se ajustou severamente aos dados de treino e perdeu muito da sua capacidade de generalizacao."
      ],
      "metadata": {
        "id": "qCu8sIZnc9fB"
      }
    }
  ]
}