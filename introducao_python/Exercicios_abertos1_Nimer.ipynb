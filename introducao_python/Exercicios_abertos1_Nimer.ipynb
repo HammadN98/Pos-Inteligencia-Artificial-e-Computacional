{
  "nbformat": 4,
  "nbformat_minor": 0,
  "metadata": {
    "colab": {
      "provenance": [],
      "authorship_tag": "ABX9TyMgk5EDOO7/2SREEYnu42bF",
      "include_colab_link": true
    },
    "kernelspec": {
      "name": "python3",
      "display_name": "Python 3"
    },
    "language_info": {
      "name": "python"
    }
  },
  "cells": [
    {
      "cell_type": "markdown",
      "metadata": {
        "id": "view-in-github",
        "colab_type": "text"
      },
      "source": [
        "<a href=\"https://colab.research.google.com/github/HammadN98/pos/blob/main/introducao_python/Exercicios_abertos1_Nimer.ipynb\" target=\"_parent\"><img src=\"https://colab.research.google.com/assets/colab-badge.svg\" alt=\"Open In Colab\"/></a>"
      ]
    },
    {
      "cell_type": "markdown",
      "source": [
        "# Questões abertas para PYTHON Parte I"
      ],
      "metadata": {
        "id": "J-hzotX7E9Mq"
      }
    },
    {
      "cell_type": "markdown",
      "source": [
        "## 1)"
      ],
      "metadata": {
        "id": "CcIRDBuZW2fR"
      }
    },
    {
      "cell_type": "code",
      "execution_count": null,
      "metadata": {
        "colab": {
          "base_uri": "https://localhost:8080/"
        },
        "id": "q5mNN3bPWw_t",
        "outputId": "c1776bc6-88ba-4c45-df9c-bebc32e944bb"
      },
      "outputs": [
        {
          "output_type": "stream",
          "name": "stdout",
          "text": [
            "b - a =  5\n",
            "a + c =  18\n",
            "b - c =  13\n",
            "a > b:  False\n",
            "d < b:  False\n",
            "d == e:  False\n",
            "a != a:  False\n",
            "a >= d: False\n",
            "d <= e: False\n"
          ]
        }
      ],
      "source": [
        "a = 13\n",
        "b = 18\n",
        "\n",
        "c = b - a #5\n",
        "d = a + c #18\n",
        "e = b - c #13\n",
        "print(\"b - a = \", c )\n",
        "print(\"a + c = \", d)\n",
        "print(\"b - c = \", e)\n",
        "print(\"a > b: \", a > b)\n",
        "print(\"d < b: \", d < b)\n",
        "print(\"d == e: \", d == e)\n",
        "print(\"a != a: \",a!=a)\n",
        "print(\"a >= d:\", a >= d)\n",
        "print(\"d <= e:\", d <= e)\n"
      ]
    },
    {
      "cell_type": "markdown",
      "source": [
        "## 2)"
      ],
      "metadata": {
        "id": "OphZ-_U3FCWI"
      }
    },
    {
      "cell_type": "code",
      "source": [
        "a = 5\n",
        "b = 2\n",
        "c = b * a #10\n",
        "d = a * a #25\n",
        "e =  b* b # 4\n",
        "\n",
        "print(\"b * a = \",c)\n",
        "print(\"a * a = \",d)\n",
        "print(\"b * b = \",e)\n",
        "print(\"d > e:\",d > e)\n",
        "print(\"d < e:\", d < e)\n",
        "print(\"d == (a * a):\", d == (a * a))\n",
        "print(\"(d * b) != ( e * a):\", (d * b) != (e * a))\n",
        "print(\"a >= c:\", a >= c)\n",
        "print(\"a <= e:\", c <= e)\n",
        "\n"
      ],
      "metadata": {
        "colab": {
          "base_uri": "https://localhost:8080/"
        },
        "id": "_nDaIAKOXuIB",
        "outputId": "10d7142e-5697-4e69-862f-4e624e9b1384"
      },
      "execution_count": null,
      "outputs": [
        {
          "output_type": "stream",
          "name": "stdout",
          "text": [
            "b * a =  10\n",
            "a * a =  25\n",
            "b * b =  4\n",
            "d > e: True\n",
            "d < e: False\n",
            "d == (a * a): True\n",
            "(d * b) != ( e * a): True\n",
            "a >= c: False\n",
            "a <= e: False\n"
          ]
        }
      ]
    },
    {
      "cell_type": "markdown",
      "source": [
        "## 2)"
      ],
      "metadata": {
        "id": "apH_QbS6FDq2"
      }
    },
    {
      "cell_type": "code",
      "source": [
        "x = 64\n",
        "\n",
        "while x > 2:\n",
        "  print(x)\n",
        "  x = int(x/2)"
      ],
      "metadata": {
        "colab": {
          "base_uri": "https://localhost:8080/"
        },
        "id": "Dpb5BgrFYx9c",
        "outputId": "3d498cde-d568-462b-cfb4-59d98eb57c87"
      },
      "execution_count": null,
      "outputs": [
        {
          "output_type": "stream",
          "name": "stdout",
          "text": [
            "64\n",
            "32\n",
            "16\n",
            "8\n",
            "4\n"
          ]
        }
      ]
    },
    {
      "cell_type": "markdown",
      "source": [
        "## 3)"
      ],
      "metadata": {
        "id": "bZ51IJetFE3l"
      }
    },
    {
      "cell_type": "code",
      "source": [
        "nota = int(input(\"digite uma nota entre 0 e 100: \"))\n",
        "\n",
        "while nota > 100 or nota < 0:\n",
        "  print(\"nota invalida!\")\n",
        "  nota = int(input(\"digite uma nota entre 0 e 100: \"))\n",
        "\n",
        "if nota < 60:\n",
        "  print(\"aluno reprovado\")\n",
        "else:\n",
        "  print(\"aluno aprovado\")"
      ],
      "metadata": {
        "colab": {
          "base_uri": "https://localhost:8080/"
        },
        "id": "ibYDTLVialCb",
        "outputId": "3e6bc597-db52-4705-8174-15b896201186"
      },
      "execution_count": null,
      "outputs": [
        {
          "output_type": "stream",
          "name": "stdout",
          "text": [
            "digite uma nota entre 0 e 100: 101\n",
            "nota invalida!\n",
            "digite uma nota entre 0 e 100: 80\n",
            "aluno aprovado\n"
          ]
        }
      ]
    }
  ]
}