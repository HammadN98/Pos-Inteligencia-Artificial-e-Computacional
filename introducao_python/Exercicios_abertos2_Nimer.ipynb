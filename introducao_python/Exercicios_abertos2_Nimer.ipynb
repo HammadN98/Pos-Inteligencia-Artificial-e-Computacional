{
  "nbformat": 4,
  "nbformat_minor": 0,
  "metadata": {
    "colab": {
      "provenance": [],
      "authorship_tag": "ABX9TyMgToo+UJwEJXd1tHXWs26R",
      "include_colab_link": true
    },
    "kernelspec": {
      "name": "python3",
      "display_name": "Python 3"
    },
    "language_info": {
      "name": "python"
    }
  },
  "cells": [
    {
      "cell_type": "markdown",
      "metadata": {
        "id": "view-in-github",
        "colab_type": "text"
      },
      "source": [
        "<a href=\"https://colab.research.google.com/github/HammadN98/pos/blob/main/introducao_python/Exercicios_abertos2_Nimer.ipynb\" target=\"_parent\"><img src=\"https://colab.research.google.com/assets/colab-badge.svg\" alt=\"Open In Colab\"/></a>"
      ]
    },
    {
      "cell_type": "markdown",
      "source": [
        "# Questões abertas para PYTHON Parte II"
      ],
      "metadata": {
        "id": "mXxlQfdcFfZb"
      }
    },
    {
      "cell_type": "markdown",
      "source": [
        "## 1)\n",
        "Utilizando vetores e comando de repetição, crie um código que receba as notas de 5\n",
        "atividades, que será informada pelo usuário. Em seguida, faça a média das notas e\n",
        "imprima na tela a média e “Aluno aprovado!” caso a média seja superior ou igual a\n",
        "60,0 e “Aluno reprovado” caso a média seja inferior a 60,0.\n"
      ],
      "metadata": {
        "id": "CcIRDBuZW2fR"
      }
    },
    {
      "cell_type": "code",
      "source": [
        "import numpy as np\n",
        "vetor = np.empty(5)\n",
        "i = 0\n",
        "for i in range(len(vetor)):\n",
        "  n = int(input(f\"Digite o {i+1} valor\"))\n",
        "  vetor[i] = n\n",
        "  #print(vetor)\n",
        "media = np.mean(vetor)\n",
        "print(media)\n",
        "if media >= 60:\n",
        "  print(\"Aluno aprovado!\")\n",
        "else:\n",
        "  print(\"Aluno reprovado\")\n",
        "\n",
        "#len(vetor)"
      ],
      "metadata": {
        "colab": {
          "base_uri": "https://localhost:8080/"
        },
        "id": "hQmBpV1Fdzx7",
        "outputId": "04b3a464-ab6a-46e3-f091-da2aa75d8155"
      },
      "execution_count": null,
      "outputs": [
        {
          "output_type": "stream",
          "name": "stdout",
          "text": [
            "Digite 1 valor70\n",
            "Digite 2 valor60\n",
            "Digite 3 valor60\n",
            "Digite 4 valor70\n",
            "Digite 5 valor80\n",
            "68.0\n",
            "Aluno aprovado!\n"
          ]
        }
      ]
    },
    {
      "cell_type": "markdown",
      "source": [
        "## 2)\n",
        "Crie um programa de repetição que receba uma matriz de tamanho 5x5 e imprima a\n",
        "soma de cada linha.\n"
      ],
      "metadata": {
        "id": "6pqBvEJeFk-V"
      }
    },
    {
      "cell_type": "code",
      "source": [
        "import numpy as np\n",
        "\n",
        "matriz = np.empty((5, 5), dtype=int)\n",
        "\n",
        "for i in range(5):\n",
        "    print(f\"Digite 5 números para a linha {i+1}:\")\n",
        "\n",
        "    for j in range(5):\n",
        "        matriz[i, j] = int(input(f\"Digite o {j+1}: \"))\n",
        "\n",
        "somas_linhas = np.sum(matriz, axis=1)\n",
        "for i, soma in enumerate(somas_linhas):\n",
        "    print(f\"Soma da linha {i+1}: {soma}\")\n",
        "\n",
        "\n",
        "\n"
      ],
      "metadata": {
        "colab": {
          "base_uri": "https://localhost:8080/"
        },
        "id": "Iv89aN-XWWal",
        "outputId": "8f8a3b33-5f35-4b2e-a24e-ac7d6947d609"
      },
      "execution_count": null,
      "outputs": [
        {
          "output_type": "stream",
          "name": "stdout",
          "text": [
            "Digite 5 números para a linha 1:\n",
            "Digite o 1: 1\n",
            "Digite o 2: 2\n",
            "Digite o 3: 3\n",
            "Digite o 4: 4\n",
            "Digite o 5: 5\n",
            "Digite 5 números para a linha 2:\n",
            "Digite o 1: 1\n",
            "Digite o 2: 2\n",
            "Digite o 3: 3\n",
            "Digite o 4: 4\n",
            "Digite o 5: 5\n",
            "Digite 5 números para a linha 3:\n",
            "Digite o 1: 1\n",
            "Digite o 2: 2\n",
            "Digite o 3: 3\n",
            "Digite o 4: 4\n",
            "Digite o 5: 5\n",
            "Digite 5 números para a linha 4:\n",
            "Digite o 1: 1\n",
            "Digite o 2: 2\n",
            "Digite o 3: 3\n",
            "Digite o 4: 4\n",
            "Digite o 5: 5\n",
            "Digite 5 números para a linha 5:\n",
            "Digite o 1: 1\n",
            "Digite o 2: 2\n",
            "Digite o 3: 3\n",
            "Digite o 4: 4\n",
            "Digite o 5: 5\n",
            "Soma da linha 1: 15\n",
            "Soma da linha 2: 15\n",
            "Soma da linha 3: 15\n",
            "Soma da linha 4: 15\n",
            "Soma da linha 5: 15\n"
          ]
        }
      ]
    },
    {
      "cell_type": "markdown",
      "source": [
        "## 3)\n",
        " Crie uma função que receba dois inteiros ent1 e ent2 . Essa função deve imprimir\n",
        "todos os textos quando a condição for atendida:\n",
        "- “ent1 - ent2 é negativo”, condição: caso ent1 menos ent2 seja menor que zero,\n",
        "-“ent1 * ent2 é negativo”, condição: caso ent1 multiplicado por ent2 seja menor que\n",
        "zero,\n",
        "-“ent1 + ent2 é negativo”, condição: caso ent1 somado a ent2 seja menor que zero.\n"
      ],
      "metadata": {
        "id": "VyTLFAfcJF41"
      }
    },
    {
      "cell_type": "code",
      "source": [
        "def recebedois(ent1, ent2):\n",
        "  if ent1 - ent2 < 0:\n",
        "    print(\"ent1 - ent2 eh negativo\")\n",
        "  if ent1 * ent2 < 0:\n",
        "    print(\"ent1 * ent2 eh negativo\")\n",
        "  if ent1 + ent2 < 0:\n",
        "    print(\"ent1 + ent2 eh negativo\")"
      ],
      "metadata": {
        "id": "Xv6pWcTGGmm6"
      },
      "execution_count": null,
      "outputs": []
    },
    {
      "cell_type": "code",
      "source": [
        "recebedois(1, -7)"
      ],
      "metadata": {
        "colab": {
          "base_uri": "https://localhost:8080/"
        },
        "id": "opmDmzjmJPzj",
        "outputId": "6ae1acba-dee3-4cfb-9940-c7d227e14750"
      },
      "execution_count": null,
      "outputs": [
        {
          "output_type": "stream",
          "name": "stdout",
          "text": [
            "ent1 * ent2 eh negativo\n",
            "ent1 + ent2 eh negativo\n"
          ]
        }
      ]
    },
    {
      "cell_type": "markdown",
      "source": [
        "## 4)\n",
        " Crie uma função que receba um caractere, uma string e o tamanho da string, essa\n",
        "função deve substituir os caracteres pares da string pelo caractere informado como\n",
        "parâmetro de entrada e retornar a nova string gerada"
      ],
      "metadata": {
        "id": "_HysnOsJLExc"
      }
    },
    {
      "cell_type": "code",
      "source": [
        "def recebe_muda(caractere, string, tamanho):\n",
        "  string = list(string)\n",
        "  for i in range(0, tamanho, 2):\n",
        "    string[i] = caractere\n",
        "  nova = ''.join(string)\n",
        "  return nova"
      ],
      "metadata": {
        "id": "CTD8p8NzKBWJ"
      },
      "execution_count": null,
      "outputs": []
    },
    {
      "cell_type": "code",
      "source": [
        "recebe_muda( \"+\",\"asdfghjkl\", 9)"
      ],
      "metadata": {
        "colab": {
          "base_uri": "https://localhost:8080/",
          "height": 36
        },
        "id": "EHuNaJj2Sbv3",
        "outputId": "1cc793ec-ba0e-4d91-cb89-af274eb60013"
      },
      "execution_count": null,
      "outputs": [
        {
          "output_type": "execute_result",
          "data": {
            "text/plain": [
              "'+s+f+h+k+'"
            ],
            "application/vnd.google.colaboratory.intrinsic+json": {
              "type": "string"
            }
          },
          "metadata": {},
          "execution_count": 34
        }
      ]
    },
    {
      "cell_type": "code",
      "source": [
        "#v2 Sem tamanho passado, para nao causar erro de index\n",
        "def recebe_mudav2(caractere, string):\n",
        "  tamanho = len(string)\n",
        "  string = list(string)\n",
        "  for i in range(0, tamanho, 2):\n",
        "    string[i] = caractere\n",
        "  novav2 = ''.join(string)\n",
        "  return novav2"
      ],
      "metadata": {
        "id": "YqRJaBnJS9f-"
      },
      "execution_count": null,
      "outputs": []
    },
    {
      "cell_type": "code",
      "source": [
        "recebe_mudav2( \"+\",\"asdfghjkl\")"
      ],
      "metadata": {
        "colab": {
          "base_uri": "https://localhost:8080/",
          "height": 36
        },
        "id": "e8OfBsqmRw_K",
        "outputId": "04496f17-32d3-463d-a830-abb26ecaa3e8"
      },
      "execution_count": null,
      "outputs": [
        {
          "output_type": "execute_result",
          "data": {
            "text/plain": [
              "'+s+f+h+k+'"
            ],
            "application/vnd.google.colaboratory.intrinsic+json": {
              "type": "string"
            }
          },
          "metadata": {},
          "execution_count": 36
        }
      ]
    }
  ]
}